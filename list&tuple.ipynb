{
  "nbformat": 4,
  "nbformat_minor": 0,
  "metadata": {
    "colab": {
      "name": "list&tuple.ipynb",
      "provenance": [],
      "authorship_tag": "ABX9TyOyc7Z+7i/ZuAAbWmKoP1A3",
      "include_colab_link": true
    },
    "kernelspec": {
      "name": "python3",
      "display_name": "Python 3"
    },
    "language_info": {
      "name": "python"
    }
  },
  "cells": [
    {
      "cell_type": "markdown",
      "metadata": {
        "id": "view-in-github",
        "colab_type": "text"
      },
      "source": [
        "<a href=\"https://colab.research.google.com/github/0equalboo/2021_Summer_Python_Deeplearning/blob/main/list%26tuple.ipynb\" target=\"_parent\"><img src=\"https://colab.research.google.com/assets/colab-badge.svg\" alt=\"Open In Colab\"/></a>"
      ]
    },
    {
      "cell_type": "markdown",
      "metadata": {
        "id": "auSFvtbT2mW5"
      },
      "source": [
        "# 시퀀스, 집합형 자료구조  \n",
        "\n",
        "---\n",
        "시퀀스(sequence)\t리스트(list)\t순서가 있고, 가변(mutable)\t[1, 2, 3]\n",
        "\n",
        "---\n",
        "시퀀스(sequence)\t튜플(tuple)\t순서가 있고, 불변(immutable)\t(1, 2, 3)\n",
        "\n",
        "---\n",
        "세트(set)\t세트(set)\t순서가 없고, 중복을 허용하지 않음\t{1, 2, 3}\n",
        "\n",
        "---\n",
        "세트(set)\t세트(set)\t순서가 없고, 중복을 허용하지 않음\t{1, 2, 3}\n",
        "\n",
        "---"
      ]
    },
    {
      "cell_type": "markdown",
      "metadata": {
        "id": "Tzxom2ha2xMo"
      },
      "source": [
        "# **리스트(list)**\n",
        "* 리스트는 데이터의 요소를 순차적으로 파악한ㄴ데 용이한 자료형\n",
        "* 리스트는 다양한 메서드(method) 또는 함수를 지원함, 메서드를 활용하여 요소를 추가, 삭제 및 변경이 가능\n",
        "* **매서드** : 객체가 포함하는 함수 혹은 기능"
      ]
    },
    {
      "cell_type": "markdown",
      "metadata": {
        "id": "HxUD609GLTDB"
      },
      "source": [
        "### **생성**\n",
        "[] 형태로 표현\n",
        "\n",
        "빈 리스트 생성"
      ]
    },
    {
      "cell_type": "code",
      "metadata": {
        "colab": {
          "base_uri": "https://localhost:8080/"
        },
        "id": "--0wfwKr22B4",
        "outputId": "558ef77d-33fd-4502-fa54-63807ccad30e"
      },
      "source": [
        "mylist = list()\n",
        "mylist"
      ],
      "execution_count": null,
      "outputs": [
        {
          "output_type": "execute_result",
          "data": {
            "text/plain": [
              "[]"
            ]
          },
          "metadata": {
            "tags": []
          },
          "execution_count": 1
        }
      ]
    },
    {
      "cell_type": "code",
      "metadata": {
        "colab": {
          "base_uri": "https://localhost:8080/"
        },
        "id": "rLeMKF5I24_Q",
        "outputId": "57f2d6a3-f54b-44f8-dcd2-6e9651460eba"
      },
      "source": [
        "mylist = []\n",
        "mylist"
      ],
      "execution_count": 1,
      "outputs": [
        {
          "output_type": "execute_result",
          "data": {
            "text/plain": [
              "[]"
            ]
          },
          "metadata": {
            "tags": []
          },
          "execution_count": 1
        }
      ]
    },
    {
      "cell_type": "markdown",
      "metadata": {
        "id": "O0djILhuLdcS"
      },
      "source": [
        "값을 포함한 리스트 생성"
      ]
    },
    {
      "cell_type": "code",
      "metadata": {
        "colab": {
          "base_uri": "https://localhost:8080/"
        },
        "id": "B_24RI_m27Wg",
        "outputId": "dc4130f3-a71c-4a1a-dfe6-ffd1124d9cae"
      },
      "source": [
        "mylist = [1, 23, 4, 5]\n",
        "mylist"
      ],
      "execution_count": null,
      "outputs": [
        {
          "output_type": "execute_result",
          "data": {
            "text/plain": [
              "[1, 23, 4, 5]"
            ]
          },
          "metadata": {
            "tags": []
          },
          "execution_count": 3
        }
      ]
    },
    {
      "cell_type": "markdown",
      "metadata": {
        "id": "-6DpAePB29Fw"
      },
      "source": [
        "## **list 규칙**\n",
        "* list는 다양한 type의 데이터를 집합으로 가짐\n",
        "* list안에 list도 허용 \n",
        "* list는 순서의 개념이 존재함"
      ]
    },
    {
      "cell_type": "code",
      "metadata": {
        "colab": {
          "base_uri": "https://localhost:8080/"
        },
        "id": "gWg0V6QX2_ZH",
        "outputId": "97a1ced7-0696-40f6-bb97-e6241fe7d70d"
      },
      "source": [
        "a = []\n",
        "a"
      ],
      "execution_count": null,
      "outputs": [
        {
          "output_type": "execute_result",
          "data": {
            "text/plain": [
              "[]"
            ]
          },
          "metadata": {
            "tags": []
          },
          "execution_count": 4
        }
      ]
    },
    {
      "cell_type": "code",
      "metadata": {
        "colab": {
          "base_uri": "https://localhost:8080/"
        },
        "id": "RF1eLfFR3BJw",
        "outputId": "1311be1d-71fd-464b-dfb4-eea8c2253fdc"
      },
      "source": [
        "a = [1,2,3]\n",
        "a"
      ],
      "execution_count": null,
      "outputs": [
        {
          "output_type": "execute_result",
          "data": {
            "text/plain": [
              "[1, 2, 3]"
            ]
          },
          "metadata": {
            "tags": []
          },
          "execution_count": 5
        }
      ]
    },
    {
      "cell_type": "code",
      "metadata": {
        "id": "XWdwV6f73H2o",
        "colab": {
          "base_uri": "https://localhost:8080/"
        },
        "outputId": "661c4643-2b35-4019-b1e0-89699e8ef0eb"
      },
      "source": [
        "a = [1, 'hello', 3,3.14, True]\n",
        "a"
      ],
      "execution_count": null,
      "outputs": [
        {
          "output_type": "execute_result",
          "data": {
            "text/plain": [
              "[1, 'hello', 3, 3.14, True]"
            ]
          },
          "metadata": {
            "tags": []
          },
          "execution_count": 1
        }
      ]
    },
    {
      "cell_type": "code",
      "metadata": {
        "colab": {
          "base_uri": "https://localhost:8080/"
        },
        "id": "mep1AbR7Oun5",
        "outputId": "39d2c6b1-3d32-4f80-975a-bf4e26e1ece7"
      },
      "source": [
        "a = [[1,2], 3]\n",
        "a"
      ],
      "execution_count": null,
      "outputs": [
        {
          "output_type": "execute_result",
          "data": {
            "text/plain": [
              "[[1, 2], 3]"
            ]
          },
          "metadata": {
            "tags": []
          },
          "execution_count": 2
        }
      ]
    },
    {
      "cell_type": "markdown",
      "metadata": {
        "id": "-fct2v_hOvZP"
      },
      "source": [
        "## **관련 함수**\n",
        "* .점 연산자로 함수를 실행할 수 있음\n",
        "* 함수는 어떤 작업을 수행하는 코드를 모아 이름을 붙인 것"
      ]
    },
    {
      "cell_type": "markdown",
      "metadata": {
        "id": "-PinNRRWOzUY"
      },
      "source": [
        "### **append() : 값 추가**\n",
        "\n",
        "\n"
      ]
    },
    {
      "cell_type": "code",
      "metadata": {
        "colab": {
          "base_uri": "https://localhost:8080/"
        },
        "id": "jgjqpjRLO6-f",
        "outputId": "418afc61-7782-4f81-8968-f3cf708004f6"
      },
      "source": [
        "mylist = []\n",
        "mylist.append(1)\n",
        "mylist"
      ],
      "execution_count": 2,
      "outputs": [
        {
          "output_type": "execute_result",
          "data": {
            "text/plain": [
              "[1]"
            ]
          },
          "metadata": {
            "tags": []
          },
          "execution_count": 2
        }
      ]
    },
    {
      "cell_type": "markdown",
      "metadata": {
        "id": "2G3i_bNFLv8D"
      },
      "source": [
        "append()는 값을 맨 뒤에 추가함"
      ]
    },
    {
      "cell_type": "markdown",
      "metadata": {
        "id": "QZTqFbOiL-u0"
      },
      "source": [
        "중복된 값 추가 가능, 순서 유지 "
      ]
    },
    {
      "cell_type": "code",
      "metadata": {
        "colab": {
          "base_uri": "https://localhost:8080/"
        },
        "id": "bjKTok_cO9W8",
        "outputId": "6890cc52-aca2-48a0-c835-cff8db16f6b1"
      },
      "source": [
        "mylist.append(7)\n",
        "mylist.append(7)\n",
        "mylist.append(7)\n",
        "mylist.append(5)\n",
        "mylist"
      ],
      "execution_count": 3,
      "outputs": [
        {
          "output_type": "execute_result",
          "data": {
            "text/plain": [
              "[1, 7, 7, 7, 5]"
            ]
          },
          "metadata": {
            "tags": []
          },
          "execution_count": 3
        }
      ]
    },
    {
      "cell_type": "markdown",
      "metadata": {
        "id": "EGoI0XlAL0xL"
      },
      "source": [
        "## **sort() : 정렬**\n",
        "* 요소를 순서대로 정렬(오름차순)\n",
        "* sort()는 내부적으로 정렬"
      ]
    },
    {
      "cell_type": "code",
      "metadata": {
        "colab": {
          "base_uri": "https://localhost:8080/"
        },
        "id": "73_eFcf2O_an",
        "outputId": "62f9b2c8-1f83-41d0-e650-f82f6c47aa91"
      },
      "source": [
        "mylist = [1, 6, 3, 2, 7, 5, 4]\n",
        "mylist.sort()\n",
        "mylist"
      ],
      "execution_count": 4,
      "outputs": [
        {
          "output_type": "execute_result",
          "data": {
            "text/plain": [
              "[1, 2, 3, 4, 5, 6, 7]"
            ]
          },
          "metadata": {
            "tags": []
          },
          "execution_count": 4
        }
      ]
    },
    {
      "cell_type": "markdown",
      "metadata": {
        "id": "Bg-y2xGOMRKr"
      },
      "source": [
        "역정렬(reverse order) 가능함.\n",
        "(reverse=True 지정)"
      ]
    },
    {
      "cell_type": "code",
      "metadata": {
        "colab": {
          "base_uri": "https://localhost:8080/"
        },
        "id": "ZQL3m-QLPBdv",
        "outputId": "17602c15-0c1f-47b7-8b64-2582987ba549"
      },
      "source": [
        "mylist.sort(reverse=True)\n",
        "mylist"
      ],
      "execution_count": null,
      "outputs": [
        {
          "output_type": "execute_result",
          "data": {
            "text/plain": [
              "[7, 6, 5, 4, 3, 2, 1]"
            ]
          },
          "metadata": {
            "tags": []
          },
          "execution_count": 6
        }
      ]
    },
    {
      "cell_type": "markdown",
      "metadata": {
        "id": "tqdjlsNRPDVv"
      },
      "source": [
        "### **sorted() : 정렬**\n",
        "* 요소를 순서대로 정렬\n",
        "* 내부적으로 정렬하지 않고 정렬된 복사본을 반환\n",
        "* 원본 데이터는 변경 x\n",
        " "
      ]
    },
    {
      "cell_type": "code",
      "metadata": {
        "colab": {
          "base_uri": "https://localhost:8080/"
        },
        "id": "HzA4pAlGPLkY",
        "outputId": "0535aea7-2a02-4f76-ff19-77b138575d5a"
      },
      "source": [
        "mylist = [1,2,3,4,5,6,7]\n",
        "sorted(mylist)"
      ],
      "execution_count": 5,
      "outputs": [
        {
          "output_type": "execute_result",
          "data": {
            "text/plain": [
              "[1, 2, 3, 4, 5, 6, 7]"
            ]
          },
          "metadata": {
            "tags": []
          },
          "execution_count": 5
        }
      ]
    },
    {
      "cell_type": "markdown",
      "metadata": {
        "id": "I3uvUqtSPPg5"
      },
      "source": [
        "### **reverse() : 역정렬**"
      ]
    },
    {
      "cell_type": "code",
      "metadata": {
        "colab": {
          "base_uri": "https://localhost:8080/"
        },
        "id": "_EDVCDfhPRp4",
        "outputId": "287dc456-06e3-40d0-d132-950376007e03"
      },
      "source": [
        "mylist = [1, 3, 4, 3, 4, 2, 1]\n",
        "mylist.reverse()\n",
        "mylist"
      ],
      "execution_count": null,
      "outputs": [
        {
          "output_type": "execute_result",
          "data": {
            "text/plain": [
              "[1, 2, 4, 3, 4, 3, 1]"
            ]
          },
          "metadata": {
            "tags": []
          },
          "execution_count": 9
        }
      ]
    },
    {
      "cell_type": "markdown",
      "metadata": {
        "id": "7VL9dNtbPTNQ"
      },
      "source": [
        "### **len() : 전체 항목의 개수 세기**"
      ]
    },
    {
      "cell_type": "code",
      "metadata": {
        "colab": {
          "base_uri": "https://localhost:8080/"
        },
        "id": "ujSo7_vXPWaf",
        "outputId": "953c1eaa-f85c-45be-8226-59b3d0f2021e"
      },
      "source": [
        "len(mylist)"
      ],
      "execution_count": null,
      "outputs": [
        {
          "output_type": "execute_result",
          "data": {
            "text/plain": [
              "7"
            ]
          },
          "metadata": {
            "tags": []
          },
          "execution_count": 10
        }
      ]
    },
    {
      "cell_type": "markdown",
      "metadata": {
        "id": "fIwTdDQ4PYLo"
      },
      "source": [
        "### **insert() : 값 추가**\n",
        "* 지정한 index에 값 추가"
      ]
    },
    {
      "cell_type": "code",
      "metadata": {
        "colab": {
          "base_uri": "https://localhost:8080/"
        },
        "id": "_l_bRdzXParg",
        "outputId": "33f78eab-b03e-439c-b966-02fc9a0b0ed7"
      },
      "source": [
        "mylist.insert(1, 100)\n",
        "mylist"
      ],
      "execution_count": null,
      "outputs": [
        {
          "output_type": "execute_result",
          "data": {
            "text/plain": [
              "[1, 100, 2, 4, 3, 4, 3, 1]"
            ]
          },
          "metadata": {
            "tags": []
          },
          "execution_count": 11
        }
      ]
    },
    {
      "cell_type": "markdown",
      "metadata": {
        "id": "KbNKfL1MPcXA"
      },
      "source": [
        "### **remove() : 값 제거**\n",
        "* 리스트에서 첫번째 나오는 해당 값 삭제"
      ]
    },
    {
      "cell_type": "code",
      "metadata": {
        "colab": {
          "base_uri": "https://localhost:8080/"
        },
        "id": "RBXdTfkBPfYQ",
        "outputId": "5524aef3-27d6-4965-b7c2-07d066b692aa"
      },
      "source": [
        "mylist = [1,2,3,4,5,4,4,3,3,]\n",
        "mylist.remove(3)\n",
        "mylist"
      ],
      "execution_count": null,
      "outputs": [
        {
          "output_type": "execute_result",
          "data": {
            "text/plain": [
              "[1, 2, 4, 5, 4, 4, 3, 3]"
            ]
          },
          "metadata": {
            "tags": []
          },
          "execution_count": 12
        }
      ]
    },
    {
      "cell_type": "markdown",
      "metadata": {
        "id": "QaYgZB1fPiYR"
      },
      "source": [
        "### **pop() : 요소 꺼내기**\n",
        "* x번째 요소를 돌려주고 해당 요소는 삭제"
      ]
    },
    {
      "cell_type": "code",
      "metadata": {
        "id": "_y8nLGuePkmX"
      },
      "source": [
        "mylist = [1,100,1000,10000]"
      ],
      "execution_count": null,
      "outputs": []
    },
    {
      "cell_type": "code",
      "metadata": {
        "colab": {
          "base_uri": "https://localhost:8080/"
        },
        "id": "vc5cpaAsPmqQ",
        "outputId": "fe48bca9-94e2-49a1-9644-25b1f40d8317"
      },
      "source": [
        "mylist.pop(1)"
      ],
      "execution_count": null,
      "outputs": [
        {
          "output_type": "execute_result",
          "data": {
            "text/plain": [
              "100"
            ]
          },
          "metadata": {
            "tags": []
          },
          "execution_count": 14
        }
      ]
    },
    {
      "cell_type": "markdown",
      "metadata": {
        "id": "PbTkTUG2Pn8H"
      },
      "source": [
        "### **del : 요소 삭제**"
      ]
    },
    {
      "cell_type": "code",
      "metadata": {
        "colab": {
          "base_uri": "https://localhost:8080/"
        },
        "id": "GUMhDO9QPpug",
        "outputId": "8215d3d6-a54a-45f5-8e14-ce54755b014d"
      },
      "source": [
        "mylist = [100, 200, 300, 400, 500]\n",
        "del mylist[1]\n",
        "print(mylist)\n"
      ],
      "execution_count": null,
      "outputs": [
        {
          "output_type": "stream",
          "text": [
            "[100, 300, 400, 500]\n"
          ],
          "name": "stdout"
        }
      ]
    },
    {
      "cell_type": "markdown",
      "metadata": {
        "id": "KSKg13pOPra4"
      },
      "source": [
        "### **count() : 개수 세기**"
      ]
    },
    {
      "cell_type": "code",
      "metadata": {
        "colab": {
          "base_uri": "https://localhost:8080/"
        },
        "id": "fWImTFULQB0w",
        "outputId": "b655c81f-dd5d-453c-ca26-e2aa1614c23a"
      },
      "source": [
        "a = [1,1,1,1,1,2,2,3]\n",
        "a.count(1)"
      ],
      "execution_count": null,
      "outputs": [
        {
          "output_type": "execute_result",
          "data": {
            "text/plain": [
              "5"
            ]
          },
          "metadata": {
            "tags": []
          },
          "execution_count": 16
        }
      ]
    },
    {
      "cell_type": "markdown",
      "metadata": {
        "id": "RwHQqc0-QD73"
      },
      "source": [
        "### **extend() : 리스트 확장**"
      ]
    },
    {
      "cell_type": "code",
      "metadata": {
        "colab": {
          "base_uri": "https://localhost:8080/"
        },
        "id": "vFQ8iSuKQFtI",
        "outputId": "e2f2c7aa-96b0-4045-f5b8-c07ea1c1be83"
      },
      "source": [
        "b = [4,5]\n",
        "a.extend(b)\n",
        "\n",
        "a"
      ],
      "execution_count": null,
      "outputs": [
        {
          "output_type": "execute_result",
          "data": {
            "text/plain": [
              "[1, 1, 1, 1, 1, 2, 2, 3, 4, 5]"
            ]
          },
          "metadata": {
            "tags": []
          },
          "execution_count": 17
        }
      ]
    },
    {
      "cell_type": "code",
      "metadata": {
        "colab": {
          "base_uri": "https://localhost:8080/"
        },
        "id": "pXV1-EIGQHUA",
        "outputId": "923bdc51-47d9-4e52-ab77-c08e2b86adaf"
      },
      "source": [
        "a = [1, 2, 3]\n",
        "a + [4,5]"
      ],
      "execution_count": null,
      "outputs": [
        {
          "output_type": "execute_result",
          "data": {
            "text/plain": [
              "[1, 2, 3, 4, 5]"
            ]
          },
          "metadata": {
            "tags": []
          },
          "execution_count": 18
        }
      ]
    },
    {
      "cell_type": "markdown",
      "metadata": {
        "id": "5crbsY9UQJd4"
      },
      "source": [
        "## **인덱싱 : 색인**\n",
        "* 인덱스는 0번부터 시작 "
      ]
    },
    {
      "cell_type": "code",
      "metadata": {
        "id": "R4hqJ9_rQLVw"
      },
      "source": [
        "mylist = [1, 2, 3, 4]"
      ],
      "execution_count": null,
      "outputs": []
    },
    {
      "cell_type": "code",
      "metadata": {
        "colab": {
          "base_uri": "https://localhost:8080/"
        },
        "id": "nnx8N9SsQOq4",
        "outputId": "fbe9e1d1-5695-4285-c550-6cf6c2ad56b3"
      },
      "source": [
        "mylist[0]"
      ],
      "execution_count": null,
      "outputs": [
        {
          "output_type": "execute_result",
          "data": {
            "text/plain": [
              "1"
            ]
          },
          "metadata": {
            "tags": []
          },
          "execution_count": 21
        }
      ]
    },
    {
      "cell_type": "markdown",
      "metadata": {
        "id": "EdTf_OnjQQKA"
      },
      "source": [
        "**없는 번호를 인덱싱 할 시 오류 발생**"
      ]
    },
    {
      "cell_type": "code",
      "metadata": {
        "colab": {
          "base_uri": "https://localhost:8080/",
          "height": 172
        },
        "id": "p0YIzCHSQSXI",
        "outputId": "717a921e-61eb-45a1-fc00-e9e13daf3834"
      },
      "source": [
        "mylist[4]"
      ],
      "execution_count": null,
      "outputs": [
        {
          "output_type": "error",
          "ename": "IndexError",
          "evalue": "ignored",
          "traceback": [
            "\u001b[0;31m---------------------------------------------------------------------------\u001b[0m",
            "\u001b[0;31mIndexError\u001b[0m                                Traceback (most recent call last)",
            "\u001b[0;32m<ipython-input-22-88b11041aa4f>\u001b[0m in \u001b[0;36m<module>\u001b[0;34m()\u001b[0m\n\u001b[0;32m----> 1\u001b[0;31m \u001b[0mmylist\u001b[0m\u001b[0;34m[\u001b[0m\u001b[0;36m4\u001b[0m\u001b[0;34m]\u001b[0m\u001b[0;34m\u001b[0m\u001b[0;34m\u001b[0m\u001b[0m\n\u001b[0m",
            "\u001b[0;31mIndexError\u001b[0m: list index out of range"
          ]
        }
      ]
    },
    {
      "cell_type": "markdown",
      "metadata": {
        "id": "3nQsxlqlQT1n"
      },
      "source": [
        "**역순 인덱싱**"
      ]
    },
    {
      "cell_type": "code",
      "metadata": {
        "colab": {
          "base_uri": "https://localhost:8080/"
        },
        "id": "18aUlhDZQV3n",
        "outputId": "61effdfa-c4a4-450a-cb93-1e961bdfca28"
      },
      "source": [
        "mylist[-1]"
      ],
      "execution_count": null,
      "outputs": [
        {
          "output_type": "execute_result",
          "data": {
            "text/plain": [
              "4"
            ]
          },
          "metadata": {
            "tags": []
          },
          "execution_count": 23
        }
      ]
    },
    {
      "cell_type": "markdown",
      "metadata": {
        "id": "o75EGisgQXng"
      },
      "source": [
        "## **인덱스로 접근하여 값 바꾸기**"
      ]
    },
    {
      "cell_type": "code",
      "metadata": {
        "colab": {
          "base_uri": "https://localhost:8080/"
        },
        "id": "fQ9fhlW8Qa6g",
        "outputId": "75e1723c-f922-4ca2-c9cd-4ebed2b7886f"
      },
      "source": [
        "mylist = [1,2,3,4,5]\n",
        "mylist"
      ],
      "execution_count": null,
      "outputs": [
        {
          "output_type": "execute_result",
          "data": {
            "text/plain": [
              "[1, 2, 3, 4, 5]"
            ]
          },
          "metadata": {
            "tags": []
          },
          "execution_count": 24
        }
      ]
    },
    {
      "cell_type": "code",
      "metadata": {
        "colab": {
          "base_uri": "https://localhost:8080/"
        },
        "id": "3thDqaxpR8i4",
        "outputId": "b1b59690-473c-499f-f802-94a082aed258"
      },
      "source": [
        "mylist[0]"
      ],
      "execution_count": null,
      "outputs": [
        {
          "output_type": "execute_result",
          "data": {
            "text/plain": [
              "1"
            ]
          },
          "metadata": {
            "tags": []
          },
          "execution_count": 25
        }
      ]
    },
    {
      "cell_type": "code",
      "metadata": {
        "colab": {
          "base_uri": "https://localhost:8080/"
        },
        "id": "2TYTRw3aR9_4",
        "outputId": "0eab7977-201e-4e60-db17-6ae61aac5d81"
      },
      "source": [
        "mylist[0] = 100\n",
        "mylist"
      ],
      "execution_count": null,
      "outputs": [
        {
          "output_type": "execute_result",
          "data": {
            "text/plain": [
              "[100, 2, 3, 4, 5]"
            ]
          },
          "metadata": {
            "tags": []
          },
          "execution_count": 26
        }
      ]
    },
    {
      "cell_type": "code",
      "metadata": {
        "colab": {
          "base_uri": "https://localhost:8080/"
        },
        "id": "ZR0HUZHfR_Z_",
        "outputId": "4ed2c0cc-e7ae-4354-9c32-a5129ee04705"
      },
      "source": [
        "mylist[-1] = 300\n",
        "mylist"
      ],
      "execution_count": null,
      "outputs": [
        {
          "output_type": "execute_result",
          "data": {
            "text/plain": [
              "[100, 2, 3, 4, 300]"
            ]
          },
          "metadata": {
            "tags": []
          },
          "execution_count": 27
        }
      ]
    },
    {
      "cell_type": "markdown",
      "metadata": {
        "id": "hquR2gTfSAuX"
      },
      "source": [
        "## **중첩된 리스트 인덱싱**\n",
        "* 중첩된 리스트에 대한 인덱싱으로 접근, 값 변경 가능 "
      ]
    },
    {
      "cell_type": "code",
      "metadata": {
        "colab": {
          "base_uri": "https://localhost:8080/"
        },
        "id": "jIHyq4-4SDUA",
        "outputId": "8783292e-04d4-4e20-a084-5e05e529964f"
      },
      "source": [
        "mylist = [['가','나','다'],[4,5,6],7,8,9]\n",
        "mylist"
      ],
      "execution_count": null,
      "outputs": [
        {
          "output_type": "execute_result",
          "data": {
            "text/plain": [
              "[['가', '나', '다'], [4, 5, 6], 7, 8, 9]"
            ]
          },
          "metadata": {
            "tags": []
          },
          "execution_count": 28
        }
      ]
    },
    {
      "cell_type": "code",
      "metadata": {
        "colab": {
          "base_uri": "https://localhost:8080/"
        },
        "id": "fJRM8SolSFM3",
        "outputId": "a4d192e3-9c35-4a69-a6b5-a827b1267505"
      },
      "source": [
        "mylist[1]"
      ],
      "execution_count": null,
      "outputs": [
        {
          "output_type": "execute_result",
          "data": {
            "text/plain": [
              "[4, 5, 6]"
            ]
          },
          "metadata": {
            "tags": []
          },
          "execution_count": 29
        }
      ]
    },
    {
      "cell_type": "code",
      "metadata": {
        "colab": {
          "base_uri": "https://localhost:8080/",
          "height": 35
        },
        "id": "_rSuqy8RSGjX",
        "outputId": "e83eb6e8-64ba-4b74-c821-dec987d317ed"
      },
      "source": [
        "mylist[0][1]"
      ],
      "execution_count": null,
      "outputs": [
        {
          "output_type": "execute_result",
          "data": {
            "application/vnd.google.colaboratory.intrinsic+json": {
              "type": "string"
            },
            "text/plain": [
              "'나'"
            ]
          },
          "metadata": {
            "tags": []
          },
          "execution_count": 30
        }
      ]
    },
    {
      "cell_type": "code",
      "metadata": {
        "colab": {
          "base_uri": "https://localhost:8080/"
        },
        "id": "vEvc9tzhSIwg",
        "outputId": "1d3d68ec-3c09-4006-c428-8c2b02389236"
      },
      "source": [
        "mylist[0][2] = 99\n",
        "mylist"
      ],
      "execution_count": null,
      "outputs": [
        {
          "output_type": "execute_result",
          "data": {
            "text/plain": [
              "[['가', '나', 99], [4, 5, 6], 7, 8, 9]"
            ]
          },
          "metadata": {
            "tags": []
          },
          "execution_count": 31
        }
      ]
    },
    {
      "cell_type": "markdown",
      "metadata": {
        "id": "cr5ebUo6SKcv"
      },
      "source": [
        "## **슬라이싱(Slicing) : 범위 추출**\n",
        "* 슬라이싱의 활용 : [start:stop:step]을 명시하여 부분 추출 "
      ]
    },
    {
      "cell_type": "code",
      "metadata": {
        "colab": {
          "base_uri": "https://localhost:8080/"
        },
        "id": "UOll1BaRSMPA",
        "outputId": "1d025247-3d0e-4b25-90e8-a085d17e8c5c"
      },
      "source": [
        "mylist = [100, 200, 300, 400 ,500]\n",
        "mylist[:]"
      ],
      "execution_count": null,
      "outputs": [
        {
          "output_type": "execute_result",
          "data": {
            "text/plain": [
              "[100, 200, 300, 400, 500]"
            ]
          },
          "metadata": {
            "tags": []
          },
          "execution_count": 33
        }
      ]
    },
    {
      "cell_type": "code",
      "metadata": {
        "colab": {
          "base_uri": "https://localhost:8080/"
        },
        "id": "sHfI7FKhSQtX",
        "outputId": "f5417bc4-ac7b-41ec-8d2e-1fe4e1a9a8f5"
      },
      "source": [
        "mylist[2:]"
      ],
      "execution_count": null,
      "outputs": [
        {
          "output_type": "execute_result",
          "data": {
            "text/plain": [
              "[300, 400, 500]"
            ]
          },
          "metadata": {
            "tags": []
          },
          "execution_count": 34
        }
      ]
    },
    {
      "cell_type": "code",
      "metadata": {
        "colab": {
          "base_uri": "https://localhost:8080/"
        },
        "id": "2M8LigIDSScP",
        "outputId": "caaa49fc-c266-4232-dc3f-6cd73d19c83c"
      },
      "source": [
        "mylist[-3:]"
      ],
      "execution_count": null,
      "outputs": [
        {
          "output_type": "execute_result",
          "data": {
            "text/plain": [
              "[300, 400, 500]"
            ]
          },
          "metadata": {
            "tags": []
          },
          "execution_count": 35
        }
      ]
    },
    {
      "cell_type": "code",
      "metadata": {
        "colab": {
          "base_uri": "https://localhost:8080/"
        },
        "id": "UeovCJE2STxf",
        "outputId": "8947373c-8891-4ee7-d582-678933bbeaa8"
      },
      "source": [
        "mylist[:3]"
      ],
      "execution_count": null,
      "outputs": [
        {
          "output_type": "execute_result",
          "data": {
            "text/plain": [
              "[100, 200, 300]"
            ]
          },
          "metadata": {
            "tags": []
          },
          "execution_count": 36
        }
      ]
    },
    {
      "cell_type": "code",
      "metadata": {
        "colab": {
          "base_uri": "https://localhost:8080/"
        },
        "id": "BB01n5yVSVBQ",
        "outputId": "80c477dd-3572-4e7d-f2e1-9ec6c94c68aa"
      },
      "source": [
        "mylist[1:3]"
      ],
      "execution_count": null,
      "outputs": [
        {
          "output_type": "execute_result",
          "data": {
            "text/plain": [
              "[200, 300]"
            ]
          },
          "metadata": {
            "tags": []
          },
          "execution_count": 37
        }
      ]
    },
    {
      "cell_type": "code",
      "metadata": {
        "colab": {
          "base_uri": "https://localhost:8080/"
        },
        "id": "08wyguYnSWu3",
        "outputId": "0553695d-8970-4680-f59e-d5a69c241dd4"
      },
      "source": [
        "mylist[-3:3]"
      ],
      "execution_count": null,
      "outputs": [
        {
          "output_type": "execute_result",
          "data": {
            "text/plain": [
              "[300]"
            ]
          },
          "metadata": {
            "tags": []
          },
          "execution_count": 38
        }
      ]
    },
    {
      "cell_type": "code",
      "metadata": {
        "colab": {
          "base_uri": "https://localhost:8080/"
        },
        "id": "KsBkH3djSYgv",
        "outputId": "b5881590-bbc5-4228-8b7f-4b1be988135d"
      },
      "source": [
        "mylist[::2]"
      ],
      "execution_count": null,
      "outputs": [
        {
          "output_type": "execute_result",
          "data": {
            "text/plain": [
              "[100, 300, 500]"
            ]
          },
          "metadata": {
            "tags": []
          },
          "execution_count": 39
        }
      ]
    },
    {
      "cell_type": "code",
      "metadata": {
        "colab": {
          "base_uri": "https://localhost:8080/"
        },
        "id": "yswLqZdgSb_f",
        "outputId": "9da851e4-3f01-477b-83de-77d1b237151c"
      },
      "source": [
        "mylist[::-1]"
      ],
      "execution_count": null,
      "outputs": [
        {
          "output_type": "execute_result",
          "data": {
            "text/plain": [
              "[500, 400, 300, 200, 100]"
            ]
          },
          "metadata": {
            "tags": []
          },
          "execution_count": 40
        }
      ]
    },
    {
      "cell_type": "code",
      "metadata": {
        "colab": {
          "base_uri": "https://localhost:8080/"
        },
        "id": "qPj6rsppSdvn",
        "outputId": "dea05a80-12cf-4178-90c6-2c9696dedeea"
      },
      "source": [
        "mylist[::-2]"
      ],
      "execution_count": null,
      "outputs": [
        {
          "output_type": "execute_result",
          "data": {
            "text/plain": [
              "[500, 300, 100]"
            ]
          },
          "metadata": {
            "tags": []
          },
          "execution_count": 41
        }
      ]
    },
    {
      "cell_type": "markdown",
      "metadata": {
        "id": "0FHXjkT7SfU3"
      },
      "source": [
        "## **list 덧셈/곱셈 : list 확장/반복**\n"
      ]
    },
    {
      "cell_type": "code",
      "metadata": {
        "colab": {
          "base_uri": "https://localhost:8080/"
        },
        "id": "vZ2fgy4iShiQ",
        "outputId": "d81dfaca-a059-4517-b06c-810d407833ff"
      },
      "source": [
        "a = [1,2,3,4]\n",
        "b = ['A','B','C','D']\n",
        "a+b"
      ],
      "execution_count": null,
      "outputs": [
        {
          "output_type": "execute_result",
          "data": {
            "text/plain": [
              "[1, 2, 3, 4, 'A', 'B', 'C', 'D']"
            ]
          },
          "metadata": {
            "tags": []
          },
          "execution_count": 42
        }
      ]
    },
    {
      "cell_type": "code",
      "metadata": {
        "colab": {
          "base_uri": "https://localhost:8080/"
        },
        "id": "n2uXvKRESjPX",
        "outputId": "24a76e9b-8d4a-47bf-8315-437f9c459c89"
      },
      "source": [
        "a*2"
      ],
      "execution_count": null,
      "outputs": [
        {
          "output_type": "execute_result",
          "data": {
            "text/plain": [
              "[1, 2, 3, 4, 1, 2, 3, 4]"
            ]
          },
          "metadata": {
            "tags": []
          },
          "execution_count": 43
        }
      ]
    },
    {
      "cell_type": "markdown",
      "metadata": {
        "id": "LsIBA7UTSk2H"
      },
      "source": [
        "# **튜플(tuple)**\n",
        "* 리스트(list)는 변하는 객체지만, 튜플은 변하지 않음 \n",
        "* 가변 객체는 요소에 대한 수정, 삭제, 변경 가능하지만 불변 객체는 요소에 대한 수정, 삭제, 변경이 **불가능**"
      ]
    },
    {
      "cell_type": "markdown",
      "metadata": {
        "id": "snKzxc1DNqS0"
      },
      "source": [
        "## **생성**\n",
        "* tuple(), ()로 생성 가능\n",
        "* 또는 ,로 생성할 수 있음"
      ]
    },
    {
      "cell_type": "markdown",
      "metadata": {
        "id": "xa_d6vMzNzDT"
      },
      "source": [
        "**()로 튜플 생성**"
      ]
    },
    {
      "cell_type": "code",
      "metadata": {
        "colab": {
          "base_uri": "https://localhost:8080/"
        },
        "id": "VKvaWZ_iN3gU",
        "outputId": "6ede5982-3a27-4459-96b1-41984348eab1"
      },
      "source": [
        "mytuple = (1,2,3)\n",
        "mytuple"
      ],
      "execution_count": 7,
      "outputs": [
        {
          "output_type": "execute_result",
          "data": {
            "text/plain": [
              "(1, 2, 3)"
            ]
          },
          "metadata": {
            "tags": []
          },
          "execution_count": 7
        }
      ]
    },
    {
      "cell_type": "markdown",
      "metadata": {
        "id": "7g9-YgNmN7tK"
      },
      "source": [
        "**tuple()로 생성 가능**"
      ]
    },
    {
      "cell_type": "code",
      "metadata": {
        "colab": {
          "base_uri": "https://localhost:8080/"
        },
        "id": "lS90TgOKSm5Q",
        "outputId": "c8b4a870-d81f-47f5-9761-02e004217345"
      },
      "source": [
        "mytuple = tuple([1,2,3])\n",
        "mytuple"
      ],
      "execution_count": 8,
      "outputs": [
        {
          "output_type": "execute_result",
          "data": {
            "text/plain": [
              "(1, 2, 3)"
            ]
          },
          "metadata": {
            "tags": []
          },
          "execution_count": 8
        }
      ]
    },
    {
      "cell_type": "markdown",
      "metadata": {
        "id": "fCV9Bo3_OGBT"
      },
      "source": [
        "**,로 생성 가능**"
      ]
    },
    {
      "cell_type": "code",
      "metadata": {
        "colab": {
          "base_uri": "https://localhost:8080/"
        },
        "id": "2rXl_9XwSqTH",
        "outputId": "da4ee7db-30bd-430c-908b-765a6818161f"
      },
      "source": [
        "mytuple = 1,2,3\n",
        "mytuple"
      ],
      "execution_count": 9,
      "outputs": [
        {
          "output_type": "execute_result",
          "data": {
            "text/plain": [
              "(1, 2, 3)"
            ]
          },
          "metadata": {
            "tags": []
          },
          "execution_count": 9
        }
      ]
    },
    {
      "cell_type": "markdown",
      "metadata": {
        "id": "uz_H2KYwOKU7"
      },
      "source": [
        "**단일 요소 생성**시 쉼표(,)를 붙여줌\n",
        "* (1,) ≠ (1) 둘은 **다른 자료구조**"
      ]
    },
    {
      "cell_type": "code",
      "metadata": {
        "id": "0bXnoAkJStdg",
        "colab": {
          "base_uri": "https://localhost:8080/"
        },
        "outputId": "80325b20-d224-48c5-ef2f-7422375518bf"
      },
      "source": [
        "mytuple =1,\n",
        "mytuple"
      ],
      "execution_count": 13,
      "outputs": [
        {
          "output_type": "execute_result",
          "data": {
            "text/plain": [
              "(1,)"
            ]
          },
          "metadata": {
            "tags": []
          },
          "execution_count": 13
        }
      ]
    },
    {
      "cell_type": "code",
      "metadata": {
        "colab": {
          "base_uri": "https://localhost:8080/"
        },
        "id": "SU7lZ6xPSr64",
        "outputId": "1d08e2c7-8236-4ade-df23-87519e581657"
      },
      "source": [
        "mytuple = (1,)\n",
        "print(type(mytuple))"
      ],
      "execution_count": 14,
      "outputs": [
        {
          "output_type": "stream",
          "text": [
            "<class 'tuple'>\n"
          ],
          "name": "stdout"
        }
      ]
    },
    {
      "cell_type": "code",
      "metadata": {
        "colab": {
          "base_uri": "https://localhost:8080/"
        },
        "id": "fVpFLdYaO6Jc",
        "outputId": "2ac75843-d6c7-4fd3-8db4-212e512a6f32"
      },
      "source": [
        "mytuple = (1)\n",
        "print(type(mytuple))"
      ],
      "execution_count": 16,
      "outputs": [
        {
          "output_type": "stream",
          "text": [
            "<class 'int'>\n"
          ],
          "name": "stdout"
        }
      ]
    },
    {
      "cell_type": "markdown",
      "metadata": {
        "id": "8wDfDC1fPLEc"
      },
      "source": [
        "**튜플 언패킹(unpacking)**\n",
        "* 튜플로 한 번에 여러 변수에 대한 값을 한번에 할 당 가능"
      ]
    },
    {
      "cell_type": "code",
      "metadata": {
        "colab": {
          "base_uri": "https://localhost:8080/"
        },
        "id": "8cdXyDJrSvY_",
        "outputId": "d95ca729-471b-4fb5-cd9e-22b2297006b0"
      },
      "source": [
        "a, b, c = 1,2,3\n",
        "print(a)\n",
        "print(b)\n",
        "print(c)\n"
      ],
      "execution_count": 17,
      "outputs": [
        {
          "output_type": "stream",
          "text": [
            "1\n",
            "2\n",
            "3\n"
          ],
          "name": "stdout"
        }
      ]
    },
    {
      "cell_type": "markdown",
      "metadata": {
        "id": "Mxa_sn3iPUnr"
      },
      "source": [
        "### **튜플 자료형은 요소의 추가, 삭제, 변경을 허용하지 않음**"
      ]
    },
    {
      "cell_type": "markdown",
      "metadata": {
        "id": "_BxHmi8YPfy8"
      },
      "source": [
        "요소를 조회하는 것은 가능"
      ]
    },
    {
      "cell_type": "code",
      "metadata": {
        "colab": {
          "base_uri": "https://localhost:8080/"
        },
        "id": "aWXq0sPaSw2I",
        "outputId": "653ed4c5-74a7-4a69-fadb-6112a9aa5b84"
      },
      "source": [
        "mytuple = (1,2,3)\n",
        "mytuple[0]"
      ],
      "execution_count": 20,
      "outputs": [
        {
          "output_type": "execute_result",
          "data": {
            "text/plain": [
              "1"
            ]
          },
          "metadata": {
            "tags": []
          },
          "execution_count": 20
        }
      ]
    },
    {
      "cell_type": "markdown",
      "metadata": {
        "id": "WsTwusmdPoGb"
      },
      "source": [
        "요소를 변경하려는 경우/ 삭제하려는 경우 **오류**가 발생함"
      ]
    },
    {
      "cell_type": "code",
      "metadata": {
        "colab": {
          "base_uri": "https://localhost:8080/",
          "height": 172
        },
        "id": "noIraimXPkVc",
        "outputId": "6e95ab99-cc45-45af-a44c-6b154382ed59"
      },
      "source": [
        "mytuple[1] = 100"
      ],
      "execution_count": 19,
      "outputs": [
        {
          "output_type": "error",
          "ename": "TypeError",
          "evalue": "ignored",
          "traceback": [
            "\u001b[0;31m---------------------------------------------------------------------------\u001b[0m",
            "\u001b[0;31mTypeError\u001b[0m                                 Traceback (most recent call last)",
            "\u001b[0;32m<ipython-input-19-302beb1444a7>\u001b[0m in \u001b[0;36m<module>\u001b[0;34m()\u001b[0m\n\u001b[0;32m----> 1\u001b[0;31m \u001b[0mmytuple\u001b[0m\u001b[0;34m[\u001b[0m\u001b[0;36m1\u001b[0m\u001b[0;34m]\u001b[0m \u001b[0;34m=\u001b[0m \u001b[0;36m100\u001b[0m\u001b[0;34m\u001b[0m\u001b[0;34m\u001b[0m\u001b[0m\n\u001b[0m",
            "\u001b[0;31mTypeError\u001b[0m: 'tuple' object does not support item assignment"
          ]
        }
      ]
    },
    {
      "cell_type": "code",
      "metadata": {
        "colab": {
          "base_uri": "https://localhost:8080/",
          "height": 172
        },
        "id": "5GN8gZwDPnEn",
        "outputId": "4f2289dc-1384-4464-9af1-eb49419dd374"
      },
      "source": [
        "del mytuple[1]"
      ],
      "execution_count": 22,
      "outputs": [
        {
          "output_type": "error",
          "ename": "TypeError",
          "evalue": "ignored",
          "traceback": [
            "\u001b[0;31m---------------------------------------------------------------------------\u001b[0m",
            "\u001b[0;31mTypeError\u001b[0m                                 Traceback (most recent call last)",
            "\u001b[0;32m<ipython-input-22-011fbf932d04>\u001b[0m in \u001b[0;36m<module>\u001b[0;34m()\u001b[0m\n\u001b[0;32m----> 1\u001b[0;31m \u001b[0;32mdel\u001b[0m \u001b[0mmytuple\u001b[0m\u001b[0;34m[\u001b[0m\u001b[0;36m1\u001b[0m\u001b[0;34m]\u001b[0m\u001b[0;34m\u001b[0m\u001b[0;34m\u001b[0m\u001b[0m\n\u001b[0m",
            "\u001b[0;31mTypeError\u001b[0m: 'tuple' object doesn't support item deletion"
          ]
        }
      ]
    },
    {
      "cell_type": "markdown",
      "metadata": {
        "id": "Z04ACA4aP0ck"
      },
      "source": [
        "### **튜플 덧셈 : 튜플의 확장**"
      ]
    },
    {
      "cell_type": "code",
      "metadata": {
        "colab": {
          "base_uri": "https://localhost:8080/"
        },
        "id": "WqZnrmaxSyeI",
        "outputId": "ecbf3336-6679-40c4-f744-aff49922b660"
      },
      "source": [
        "a = (1,2)\n",
        "b = (3,4)\n",
        "a+b"
      ],
      "execution_count": 23,
      "outputs": [
        {
          "output_type": "execute_result",
          "data": {
            "text/plain": [
              "(1, 2, 3, 4)"
            ]
          },
          "metadata": {
            "tags": []
          },
          "execution_count": 23
        }
      ]
    },
    {
      "cell_type": "markdown",
      "metadata": {
        "id": "aHgs_2yCP5LM"
      },
      "source": [
        "### **튜플 곱셈 : 튜플의 반복**"
      ]
    },
    {
      "cell_type": "code",
      "metadata": {
        "colab": {
          "base_uri": "https://localhost:8080/"
        },
        "id": "4dwJmHL7P_GM",
        "outputId": "f194d5b3-c4c3-4dd9-86ae-3ed62a781845"
      },
      "source": [
        "a = (1,2)\n",
        "b = 2\n",
        "a*b"
      ],
      "execution_count": 25,
      "outputs": [
        {
          "output_type": "execute_result",
          "data": {
            "text/plain": [
              "(1, 2, 1, 2)"
            ]
          },
          "metadata": {
            "tags": []
          },
          "execution_count": 25
        }
      ]
    },
    {
      "cell_type": "markdown",
      "metadata": {
        "id": "1DzmZNPlQGob"
      },
      "source": [
        "### **튜플의 길이 파악**"
      ]
    },
    {
      "cell_type": "code",
      "metadata": {
        "colab": {
          "base_uri": "https://localhost:8080/"
        },
        "id": "p1L0PfxxQUUD",
        "outputId": "f548da25-87eb-4748-d7a8-0ce7db692c0f"
      },
      "source": [
        "mytuple"
      ],
      "execution_count": 27,
      "outputs": [
        {
          "output_type": "execute_result",
          "data": {
            "text/plain": [
              "(1, 2, 3)"
            ]
          },
          "metadata": {
            "tags": []
          },
          "execution_count": 27
        }
      ]
    },
    {
      "cell_type": "code",
      "metadata": {
        "colab": {
          "base_uri": "https://localhost:8080/"
        },
        "id": "HycrheZyQWMs",
        "outputId": "dff8b178-c10c-44d0-ef9e-d771d632feb3"
      },
      "source": [
        "len(mytuple)"
      ],
      "execution_count": 29,
      "outputs": [
        {
          "output_type": "execute_result",
          "data": {
            "text/plain": [
              "3"
            ]
          },
          "metadata": {
            "tags": []
          },
          "execution_count": 29
        }
      ]
    },
    {
      "cell_type": "markdown",
      "metadata": {
        "id": "AkfBu_nDTOo4"
      },
      "source": [
        "### **list를 tuple로 변환**"
      ]
    },
    {
      "cell_type": "code",
      "metadata": {
        "id": "z7Te595sTQd4"
      },
      "source": [
        "a = [1,2,3,4]\n",
        "b = tuple(a)"
      ],
      "execution_count": null,
      "outputs": []
    },
    {
      "cell_type": "code",
      "metadata": {
        "colab": {
          "base_uri": "https://localhost:8080/"
        },
        "id": "WEZZjAOQTSKw",
        "outputId": "32d8dd61-016e-4b92-9ca9-e873b2083536"
      },
      "source": [
        "print(type(a))\n",
        "print(type(b))"
      ],
      "execution_count": 30,
      "outputs": [
        {
          "output_type": "stream",
          "text": [
            "<class 'tuple'>\n",
            "<class 'int'>\n"
          ],
          "name": "stdout"
        }
      ]
    },
    {
      "cell_type": "markdown",
      "metadata": {
        "id": "2bwQPwOIQiJM"
      },
      "source": [
        "### **tuple을 list로 변환**"
      ]
    },
    {
      "cell_type": "code",
      "metadata": {
        "id": "Mw0udjUqTTc_"
      },
      "source": [
        "a = 1,2,3,4\n",
        "b = list(a)"
      ],
      "execution_count": 44,
      "outputs": []
    },
    {
      "cell_type": "code",
      "metadata": {
        "colab": {
          "base_uri": "https://localhost:8080/"
        },
        "id": "tKK2S4dUTaJo",
        "outputId": "cd892168-7b04-464e-85ba-dc2c3f580838"
      },
      "source": [
        "print(type(a))\n",
        "print(type(b))"
      ],
      "execution_count": 45,
      "outputs": [
        {
          "output_type": "stream",
          "text": [
            "<class 'tuple'>\n",
            "<class 'list'>\n"
          ],
          "name": "stdout"
        }
      ]
    },
    {
      "cell_type": "markdown",
      "metadata": {
        "id": "YnTHlaf5QoMD"
      },
      "source": [
        "* 이 경우 요소를 변경, 추가, 삭제 후 다시 tuple로 변환이 가능"
      ]
    },
    {
      "cell_type": "code",
      "metadata": {
        "colab": {
          "base_uri": "https://localhost:8080/"
        },
        "id": "iLy0cyuPQtar",
        "outputId": "672e1586-c742-41a7-b4e7-d6bb2b069855"
      },
      "source": [
        "b.append(5)\n",
        "b"
      ],
      "execution_count": 46,
      "outputs": [
        {
          "output_type": "execute_result",
          "data": {
            "text/plain": [
              "[1, 2, 3, 4, 5]"
            ]
          },
          "metadata": {
            "tags": []
          },
          "execution_count": 46
        }
      ]
    },
    {
      "cell_type": "code",
      "metadata": {
        "colab": {
          "base_uri": "https://localhost:8080/"
        },
        "id": "66jHoQ5eQzwD",
        "outputId": "ce496474-20cb-462f-c1cb-7d3603d13bec"
      },
      "source": [
        "b.remove(2)\n",
        "b"
      ],
      "execution_count": 47,
      "outputs": [
        {
          "output_type": "execute_result",
          "data": {
            "text/plain": [
              "[1, 3, 4, 5]"
            ]
          },
          "metadata": {
            "tags": []
          },
          "execution_count": 47
        }
      ]
    },
    {
      "cell_type": "code",
      "metadata": {
        "colab": {
          "base_uri": "https://localhost:8080/"
        },
        "id": "rfHYx0UTQ_C7",
        "outputId": "3e84e0e6-59e8-4582-f7c9-3572dfd8a3ca"
      },
      "source": [
        "c = tuple(b)\n",
        "c"
      ],
      "execution_count": 48,
      "outputs": [
        {
          "output_type": "execute_result",
          "data": {
            "text/plain": [
              "(1, 3, 4, 5)"
            ]
          },
          "metadata": {
            "tags": []
          },
          "execution_count": 48
        }
      ]
    },
    {
      "cell_type": "code",
      "metadata": {
        "colab": {
          "base_uri": "https://localhost:8080/"
        },
        "id": "Mc7N3DaGRLzE",
        "outputId": "c6e8a0fe-3dc6-4016-8acf-25a6bdc99550"
      },
      "source": [
        "type(c)"
      ],
      "execution_count": 49,
      "outputs": [
        {
          "output_type": "execute_result",
          "data": {
            "text/plain": [
              "tuple"
            ]
          },
          "metadata": {
            "tags": []
          },
          "execution_count": 49
        }
      ]
    }
  ]
}