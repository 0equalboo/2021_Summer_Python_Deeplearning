{
  "nbformat": 4,
  "nbformat_minor": 0,
  "metadata": {
    "colab": {
      "name": "Python_자료구조.ipynb",
      "provenance": [],
      "authorship_tag": "ABX9TyPera/AG/+RlFIj0sMnC5JN",
      "include_colab_link": true
    },
    "kernelspec": {
      "name": "python3",
      "display_name": "Python 3"
    },
    "language_info": {
      "name": "python"
    }
  },
  "cells": [
    {
      "cell_type": "markdown",
      "metadata": {
        "id": "view-in-github",
        "colab_type": "text"
      },
      "source": [
        "<a href=\"https://colab.research.google.com/github/0equalboo/2021_Summer_Python_Deeplearning/blob/main/Python_%EC%9E%90%EB%A3%8C%EA%B5%AC%EC%A1%B0.ipynb\" target=\"_parent\"><img src=\"https://colab.research.google.com/assets/colab-badge.svg\" alt=\"Open In Colab\"/></a>"
      ]
    },
    {
      "cell_type": "code",
      "metadata": {
        "id": "eWJLF8QW6WC5",
        "colab": {
          "base_uri": "https://localhost:8080/"
        },
        "outputId": "122f1514-2f41-48c1-cc15-acb4a626b4b0"
      },
      "source": [
        "import this"
      ],
      "execution_count": 1,
      "outputs": [
        {
          "output_type": "stream",
          "text": [
            "The Zen of Python, by Tim Peters\n",
            "\n",
            "Beautiful is better than ugly.\n",
            "Explicit is better than implicit.\n",
            "Simple is better than complex.\n",
            "Complex is better than complicated.\n",
            "Flat is better than nested.\n",
            "Sparse is better than dense.\n",
            "Readability counts.\n",
            "Special cases aren't special enough to break the rules.\n",
            "Although practicality beats purity.\n",
            "Errors should never pass silently.\n",
            "Unless explicitly silenced.\n",
            "In the face of ambiguity, refuse the temptation to guess.\n",
            "There should be one-- and preferably only one --obvious way to do it.\n",
            "Although that way may not be obvious at first unless you're Dutch.\n",
            "Now is better than never.\n",
            "Although never is often better than *right* now.\n",
            "If the implementation is hard to explain, it's a bad idea.\n",
            "If the implementation is easy to explain, it may be a good idea.\n",
            "Namespaces are one honking great idea -- let's do more of those!\n"
          ],
          "name": "stdout"
        }
      ]
    },
    {
      "cell_type": "markdown",
      "metadata": {
        "id": "NWlh9peP7Wbg"
      },
      "source": [
        "# **print(출력)**"
      ]
    },
    {
      "cell_type": "code",
      "metadata": {
        "colab": {
          "base_uri": "https://localhost:8080/"
        },
        "id": "eqkYsp767lGK",
        "outputId": "6a15c48c-92a5-4999-c2f7-cc4c4c0c52b3"
      },
      "source": [
        "print('파이썬')"
      ],
      "execution_count": null,
      "outputs": [
        {
          "output_type": "stream",
          "text": [
            "파이썬\n"
          ],
          "name": "stdout"
        }
      ]
    },
    {
      "cell_type": "code",
      "metadata": {
        "colab": {
          "base_uri": "https://localhost:8080/"
        },
        "id": "mtY9cOu37sVb",
        "outputId": "976ab53e-09ef-49a1-e03e-805dc78e7334"
      },
      "source": [
        "print('오늘은', '월요일')"
      ],
      "execution_count": null,
      "outputs": [
        {
          "output_type": "stream",
          "text": [
            "오늘은 월요일\n"
          ],
          "name": "stdout"
        }
      ]
    },
    {
      "cell_type": "code",
      "metadata": {
        "colab": {
          "base_uri": "https://localhost:8080/"
        },
        "id": "T83J2vFk7xUp",
        "outputId": "41e1a636-f5ca-41e2-8834-a52058f04726"
      },
      "source": [
        "print('1, 2, 3, 4')"
      ],
      "execution_count": null,
      "outputs": [
        {
          "output_type": "stream",
          "text": [
            "1, 2, 3, 4\n"
          ],
          "name": "stdout"
        }
      ]
    },
    {
      "cell_type": "markdown",
      "metadata": {
        "id": "bbn7B-Uw7_I8"
      },
      "source": [
        "**Jupyter Notebook** 셀에서 맨 끝에 위치한 변수, 문자열, 숫자 등은 자동으로 출력\n",
        "* 항상 마지막만 출력 "
      ]
    },
    {
      "cell_type": "code",
      "metadata": {
        "colab": {
          "base_uri": "https://localhost:8080/"
        },
        "id": "oDRE0cM5_KIT",
        "outputId": "3caffa9c-b179-40ac-88fa-bf758ff43542"
      },
      "source": [
        "3.14\n",
        "'hello'\n",
        "100"
      ],
      "execution_count": null,
      "outputs": [
        {
          "output_type": "execute_result",
          "data": {
            "text/plain": [
              "100"
            ]
          },
          "metadata": {
            "tags": []
          },
          "execution_count": 1
        }
      ]
    },
    {
      "cell_type": "markdown",
      "metadata": {
        "id": "CwRBsxRO8Knc"
      },
      "source": [
        "# **변수 (Variable)**"
      ]
    },
    {
      "cell_type": "markdown",
      "metadata": {
        "id": "L_cSarM08QcW"
      },
      "source": [
        "변수는 데이터를 담는 그릇\n",
        "* 소문자\n",
        "* 대문자\n",
        "* 숫자\n",
        "* 한글\n",
        "* 특수기호는 언더바(_)만 허용\n",
        "\n",
        "**다음의 규칙을 가짐**\n",
        "\n",
        "* 대소 문자를 구분함\n",
        "* 숫자는 맨 처음에 올 수 없음\n",
        "* 예약어는 사용할 수 없음 (def, if, del, import, return ...)"
      ]
    },
    {
      "cell_type": "markdown",
      "metadata": {
        "id": "Y7gEBnF89ZSZ"
      },
      "source": [
        "### **case**\n",
        "* 알파벳\n",
        "* 알파벳+숫자\n",
        "* 알파벳+언더바(_)\n",
        "* 언더바(_)+알파벳\n"
      ]
    },
    {
      "cell_type": "code",
      "metadata": {
        "colab": {
          "base_uri": "https://localhost:8080/"
        },
        "id": "9-us5kzT9CJr",
        "outputId": "f1dbb423-788f-4a25-fbe5-cd591508fd2e"
      },
      "source": [
        "\n",
        "a = 1\n",
        "A = 1\n",
        "변수 = 1\n",
        "변수"
      ],
      "execution_count": null,
      "outputs": [
        {
          "output_type": "execute_result",
          "data": {
            "text/plain": [
              "1"
            ]
          },
          "metadata": {
            "tags": []
          },
          "execution_count": 13
        }
      ]
    },
    {
      "cell_type": "code",
      "metadata": {
        "id": "N1Jkb3By9SJO"
      },
      "source": [
        "a1 = 1"
      ],
      "execution_count": null,
      "outputs": []
    },
    {
      "cell_type": "code",
      "metadata": {
        "id": "p8py324z9UZT"
      },
      "source": [
        "a_ = 1"
      ],
      "execution_count": null,
      "outputs": []
    },
    {
      "cell_type": "code",
      "metadata": {
        "id": "BAe32tT09VQT"
      },
      "source": [
        "_a = 1"
      ],
      "execution_count": null,
      "outputs": []
    },
    {
      "cell_type": "markdown",
      "metadata": {
        "id": "yfdt2wxX_Z6z"
      },
      "source": [
        "**숫자가 앞에 오거나 공백, _(언더바)를 제외한 특수기호 모두 오류 발생**"
      ]
    },
    {
      "cell_type": "code",
      "metadata": {
        "colab": {
          "base_uri": "https://localhost:8080/",
          "height": 136
        },
        "id": "rS_CQkG-9X3l",
        "outputId": "2528e4cd-9dad-412e-c687-9ab3b0a4738d"
      },
      "source": [
        "1a = 1"
      ],
      "execution_count": null,
      "outputs": [
        {
          "output_type": "error",
          "ename": "SyntaxError",
          "evalue": "ignored",
          "traceback": [
            "\u001b[0;36m  File \u001b[0;32m\"<ipython-input-17-cc67e5ecf289>\"\u001b[0;36m, line \u001b[0;32m1\u001b[0m\n\u001b[0;31m    1a = 1\u001b[0m\n\u001b[0m     ^\u001b[0m\n\u001b[0;31mSyntaxError\u001b[0m\u001b[0;31m:\u001b[0m invalid syntax\n"
          ]
        }
      ]
    },
    {
      "cell_type": "code",
      "metadata": {
        "colab": {
          "base_uri": "https://localhost:8080/",
          "height": 136
        },
        "id": "jrQwmWzH93NG",
        "outputId": "de232994-cdd9-49c2-fa80-be09a107c871"
      },
      "source": [
        "a b = 1"
      ],
      "execution_count": null,
      "outputs": [
        {
          "output_type": "error",
          "ename": "SyntaxError",
          "evalue": "ignored",
          "traceback": [
            "\u001b[0;36m  File \u001b[0;32m\"<ipython-input-18-2bab97d7970c>\"\u001b[0;36m, line \u001b[0;32m1\u001b[0m\n\u001b[0;31m    a b = 1\u001b[0m\n\u001b[0m      ^\u001b[0m\n\u001b[0;31mSyntaxError\u001b[0m\u001b[0;31m:\u001b[0m invalid syntax\n"
          ]
        }
      ]
    },
    {
      "cell_type": "code",
      "metadata": {
        "colab": {
          "base_uri": "https://localhost:8080/",
          "height": 136
        },
        "id": "5eSyVejm94u3",
        "outputId": "86ffa8a3-1c7c-4bf1-d36e-af23a8f89dd9"
      },
      "source": [
        "a% = 1"
      ],
      "execution_count": null,
      "outputs": [
        {
          "output_type": "error",
          "ename": "SyntaxError",
          "evalue": "ignored",
          "traceback": [
            "\u001b[0;36m  File \u001b[0;32m\"<ipython-input-19-aa9102120e42>\"\u001b[0;36m, line \u001b[0;32m1\u001b[0m\n\u001b[0;31m    a% = 1\u001b[0m\n\u001b[0m       ^\u001b[0m\n\u001b[0;31mSyntaxError\u001b[0m\u001b[0;31m:\u001b[0m invalid syntax\n"
          ]
        }
      ]
    },
    {
      "cell_type": "markdown",
      "metadata": {
        "id": "q9jZ6npI97Ka"
      },
      "source": [
        "# **데이터 타입 ( Data Type )**\n",
        "자료형태, 자료구조라고 불림\n",
        "\n"
      ]
    },
    {
      "cell_type": "markdown",
      "metadata": {
        "id": "tky473r8-J1u"
      },
      "source": [
        "**주요 데이터 타입**\n",
        "1. int : 정수를 나타내는 자료형\n",
        "2. float : 소수점이 있는 숫자 (실수)를 나타내는 자료형\n",
        "3. str : 문자를 나타내는 자료형 ' or \"\n",
        "4. bool : 참 또는 거짓을 나타내는 자료형, True, False 에서 T와 F는 반드시 대문자로 표기하여야 함 (0은 거짓, 0을 제외한 모든 숫자는 참)"
      ]
    },
    {
      "cell_type": "markdown",
      "metadata": {
        "id": "92G5UTya-_QY"
      },
      "source": [
        "## **Type()**\n"
      ]
    },
    {
      "cell_type": "markdown",
      "metadata": {
        "id": "mnsq2CZf_GAM"
      },
      "source": [
        "type 함수를 활용하여 데이터의 타입 확인 가능"
      ]
    },
    {
      "cell_type": "code",
      "metadata": {
        "colab": {
          "base_uri": "https://localhost:8080/"
        },
        "id": "T3pTA_YS_NJ-",
        "outputId": "63e58e1a-98e7-4d33-f40e-fe3dba83251c"
      },
      "source": [
        "type('string')"
      ],
      "execution_count": null,
      "outputs": [
        {
          "output_type": "execute_result",
          "data": {
            "text/plain": [
              "str"
            ]
          },
          "metadata": {
            "tags": []
          },
          "execution_count": 21
        }
      ]
    },
    {
      "cell_type": "code",
      "metadata": {
        "colab": {
          "base_uri": "https://localhost:8080/"
        },
        "id": "DXEhGvsd_lno",
        "outputId": "6db835d3-c9da-47e3-8dc5-21bc70d9d56a"
      },
      "source": [
        "type(1)"
      ],
      "execution_count": null,
      "outputs": [
        {
          "output_type": "execute_result",
          "data": {
            "text/plain": [
              "int"
            ]
          },
          "metadata": {
            "tags": []
          },
          "execution_count": 22
        }
      ]
    },
    {
      "cell_type": "code",
      "metadata": {
        "colab": {
          "base_uri": "https://localhost:8080/"
        },
        "id": "gpD4_LW-_lsY",
        "outputId": "cfc1ca93-92df-405c-d8e2-12856bd6c5bc"
      },
      "source": [
        "type(3.14)"
      ],
      "execution_count": null,
      "outputs": [
        {
          "output_type": "execute_result",
          "data": {
            "text/plain": [
              "float"
            ]
          },
          "metadata": {
            "tags": []
          },
          "execution_count": 23
        }
      ]
    },
    {
      "cell_type": "code",
      "metadata": {
        "colab": {
          "base_uri": "https://localhost:8080/"
        },
        "id": "SWQyar4G_lw0",
        "outputId": "9921708c-d968-4de0-9268-9a6318de44d8"
      },
      "source": [
        "type(True)"
      ],
      "execution_count": null,
      "outputs": [
        {
          "output_type": "execute_result",
          "data": {
            "text/plain": [
              "bool"
            ]
          },
          "metadata": {
            "tags": []
          },
          "execution_count": 5
        }
      ]
    },
    {
      "cell_type": "markdown",
      "metadata": {
        "id": "WY0aiyB0AkcT"
      },
      "source": [
        "## **str(문자열)**\n",
        "* 문자를 나타내는 자료형 \n"
      ]
    },
    {
      "cell_type": "code",
      "metadata": {
        "colab": {
          "base_uri": "https://localhost:8080/",
          "height": 35
        },
        "id": "GaHdpiE1As2D",
        "outputId": "d64c9442-62c2-4a4d-ee39-7980116a1797"
      },
      "source": [
        "word = 'Hi'\n",
        "word"
      ],
      "execution_count": null,
      "outputs": [
        {
          "output_type": "execute_result",
          "data": {
            "application/vnd.google.colaboratory.intrinsic+json": {
              "type": "string"
            },
            "text/plain": [
              "'Hi'"
            ]
          },
          "metadata": {
            "tags": []
          },
          "execution_count": 7
        }
      ]
    },
    {
      "cell_type": "markdown",
      "metadata": {
        "id": "5wUsgopY_vVk"
      },
      "source": [
        "### 작은 따옴표/ 큰 따옴표\n",
        "''' 또는 \"\"\"를 이용하여 여러줄에 입력이 가능"
      ]
    },
    {
      "cell_type": "code",
      "metadata": {
        "colab": {
          "base_uri": "https://localhost:8080/"
        },
        "id": "n3oHkenw_p5S",
        "outputId": "803146a7-4e6b-47c2-cb21-2e2016ab11b9"
      },
      "source": [
        "print('''\n",
        "Life is too short,\n",
        "You need Python.\n",
        "''')"
      ],
      "execution_count": null,
      "outputs": [
        {
          "output_type": "stream",
          "text": [
            "\n",
            "Life is too short,\n",
            "You need Python.\n",
            "\n"
          ],
          "name": "stdout"
        }
      ]
    },
    {
      "cell_type": "markdown",
      "metadata": {
        "id": "InMkv2lGAVHM"
      },
      "source": [
        "## **bool (참/거짓)**\n",
        "* 참 또는 거짓을 나타내는 자료형\n",
        "* 반드시 T,F는 대문자를 사용  "
      ]
    },
    {
      "cell_type": "code",
      "metadata": {
        "colab": {
          "base_uri": "https://localhost:8080/"
        },
        "id": "5YF6GGLbBOzh",
        "outputId": "76343427-30e2-412b-db22-9922defe3fb7"
      },
      "source": [
        "a = False\n",
        "print(a)"
      ],
      "execution_count": null,
      "outputs": [
        {
          "output_type": "stream",
          "text": [
            "False\n"
          ],
          "name": "stdout"
        }
      ]
    },
    {
      "cell_type": "code",
      "metadata": {
        "colab": {
          "base_uri": "https://localhost:8080/"
        },
        "id": "k2Ii-sGAACz6",
        "outputId": "9659b6ed-ab03-4131-dd14-ec6346fa015c"
      },
      "source": [
        "1 == True"
      ],
      "execution_count": null,
      "outputs": [
        {
          "output_type": "execute_result",
          "data": {
            "text/plain": [
              "True"
            ]
          },
          "metadata": {
            "tags": []
          },
          "execution_count": 9
        }
      ]
    },
    {
      "cell_type": "markdown",
      "metadata": {
        "id": "5cBMkls0BeC0"
      },
      "source": [
        "## **None 타입**\n",
        "* 아무것도 아닌 값을 뜻함 "
      ]
    },
    {
      "cell_type": "code",
      "metadata": {
        "colab": {
          "base_uri": "https://localhost:8080/"
        },
        "id": "HLyA6iyaKTK7",
        "outputId": "1f861441-bb3a-428a-b85c-3f92dec7904d"
      },
      "source": [
        "a = None\n",
        "type(a)"
      ],
      "execution_count": 9,
      "outputs": [
        {
          "output_type": "execute_result",
          "data": {
            "text/plain": [
              "NoneType"
            ]
          },
          "metadata": {
            "tags": []
          },
          "execution_count": 9
        }
      ]
    },
    {
      "cell_type": "code",
      "metadata": {
        "colab": {
          "base_uri": "https://localhost:8080/"
        },
        "id": "qQGMdyBXKY7T",
        "outputId": "c5c6859f-4dee-4cd6-af16-05d926f02053"
      },
      "source": [
        "print(a)"
      ],
      "execution_count": 10,
      "outputs": [
        {
          "output_type": "stream",
          "text": [
            "None\n"
          ],
          "name": "stdout"
        }
      ]
    },
    {
      "cell_type": "markdown",
      "metadata": {
        "id": "naCojwItAVft"
      },
      "source": [
        "## **타입 변환**\n"
      ]
    },
    {
      "cell_type": "markdown",
      "metadata": {
        "id": "UQwoEyCvAbFB"
      },
      "source": [
        "int 를 float로 변환한 경우"
      ]
    },
    {
      "cell_type": "code",
      "metadata": {
        "id": "DtFz73-cAfWF"
      },
      "source": [
        "a = 1"
      ],
      "execution_count": 2,
      "outputs": []
    },
    {
      "cell_type": "code",
      "metadata": {
        "colab": {
          "base_uri": "https://localhost:8080/"
        },
        "id": "EwBhzPD6Aiug",
        "outputId": "08fb2f45-49f7-4363-eed1-8567fe05451c"
      },
      "source": [
        "float(a)"
      ],
      "execution_count": 3,
      "outputs": [
        {
          "output_type": "execute_result",
          "data": {
            "text/plain": [
              "1.0"
            ]
          },
          "metadata": {
            "tags": []
          },
          "execution_count": 3
        }
      ]
    },
    {
      "cell_type": "markdown",
      "metadata": {
        "id": "p2A2f4r6AknW"
      },
      "source": [
        "float를 int로 변환한 경우 "
      ]
    },
    {
      "cell_type": "code",
      "metadata": {
        "id": "5MYamvE8Aq3D"
      },
      "source": [
        "a = 1.324"
      ],
      "execution_count": 4,
      "outputs": []
    },
    {
      "cell_type": "code",
      "metadata": {
        "colab": {
          "base_uri": "https://localhost:8080/"
        },
        "id": "1PRG726hAo7O",
        "outputId": "1406d7a2-9c07-4126-a929-273bb9396ba4"
      },
      "source": [
        "int(a)"
      ],
      "execution_count": 5,
      "outputs": [
        {
          "output_type": "execute_result",
          "data": {
            "text/plain": [
              "1"
            ]
          },
          "metadata": {
            "tags": []
          },
          "execution_count": 5
        }
      ]
    },
    {
      "cell_type": "markdown",
      "metadata": {
        "id": "laJsgrmOAwf-"
      },
      "source": [
        "bool을 int, float로 변환한 경우 "
      ]
    },
    {
      "cell_type": "code",
      "metadata": {
        "colab": {
          "base_uri": "https://localhost:8080/"
        },
        "id": "XDlhdlldA1MM",
        "outputId": "5ae9ea7c-220c-4bc1-c46e-8264a32461a7"
      },
      "source": [
        "int(True)"
      ],
      "execution_count": 6,
      "outputs": [
        {
          "output_type": "execute_result",
          "data": {
            "text/plain": [
              "1"
            ]
          },
          "metadata": {
            "tags": []
          },
          "execution_count": 6
        }
      ]
    },
    {
      "cell_type": "code",
      "metadata": {
        "colab": {
          "base_uri": "https://localhost:8080/"
        },
        "id": "I1FinF46BagV",
        "outputId": "d2a6aa91-d973-4b30-da61-0ad27b171ecd"
      },
      "source": [
        "a = False\n",
        "float(a)"
      ],
      "execution_count": 7,
      "outputs": [
        {
          "output_type": "execute_result",
          "data": {
            "text/plain": [
              "0.0"
            ]
          },
          "metadata": {
            "tags": []
          },
          "execution_count": 7
        }
      ]
    }
  ]
}