{
  "nbformat": 4,
  "nbformat_minor": 0,
  "metadata": {
    "colab": {
      "name": "Python_compare&logic.ipynb",
      "provenance": [],
      "authorship_tag": "ABX9TyPb/kA6DtDvjD7MgRmllLcs",
      "include_colab_link": true
    },
    "kernelspec": {
      "name": "python3",
      "display_name": "Python 3"
    },
    "language_info": {
      "name": "python"
    }
  },
  "cells": [
    {
      "cell_type": "markdown",
      "metadata": {
        "id": "view-in-github",
        "colab_type": "text"
      },
      "source": [
        "<a href=\"https://colab.research.google.com/github/0equalboo/2021_Summer_Python_Deeplearning/blob/main/Python_compare%26logic.ipynb\" target=\"_parent\"><img src=\"https://colab.research.google.com/assets/colab-badge.svg\" alt=\"Open In Colab\"/></a>"
      ]
    },
    {
      "cell_type": "markdown",
      "metadata": {
        "id": "Cj8ZcUT__h0t"
      },
      "source": [
        "# **비교연산자**\n",
        "비교 연산자는 주로 대소비교를 할 때 사용"
      ]
    },
    {
      "cell_type": "markdown",
      "metadata": {
        "id": "-21XYLQ6AFwA"
      },
      "source": [
        "## **대소비교**\n",
        "* `>`: 크다\n",
        "* `>=`: 크거나같다\n",
        "* `<` : 작다\n",
        "* `<=` : 작거나 같다"
      ]
    },
    {
      "cell_type": "code",
      "metadata": {
        "colab": {
          "base_uri": "https://localhost:8080/"
        },
        "id": "oiKSyk9DAmic",
        "outputId": "fea76581-e05c-4f18-ac65-eb4b719e3322"
      },
      "source": [
        "1>2"
      ],
      "execution_count": null,
      "outputs": [
        {
          "output_type": "execute_result",
          "data": {
            "text/plain": [
              "False"
            ]
          },
          "metadata": {
            "tags": []
          },
          "execution_count": 1
        }
      ]
    },
    {
      "cell_type": "code",
      "metadata": {
        "colab": {
          "base_uri": "https://localhost:8080/"
        },
        "id": "S73FtdSUAoxc",
        "outputId": "badefb3a-840e-4ab4-8bd8-6e6716cfcb93"
      },
      "source": [
        "10 >= 10"
      ],
      "execution_count": null,
      "outputs": [
        {
          "output_type": "execute_result",
          "data": {
            "text/plain": [
              "True"
            ]
          },
          "metadata": {
            "tags": []
          },
          "execution_count": 2
        }
      ]
    },
    {
      "cell_type": "code",
      "metadata": {
        "colab": {
          "base_uri": "https://localhost:8080/"
        },
        "id": "t_jSSd4dArjJ",
        "outputId": "31258bb2-238e-4d5f-ebcc-f411a57040cc"
      },
      "source": [
        "9 < 10"
      ],
      "execution_count": null,
      "outputs": [
        {
          "output_type": "execute_result",
          "data": {
            "text/plain": [
              "True"
            ]
          },
          "metadata": {
            "tags": []
          },
          "execution_count": 4
        }
      ]
    },
    {
      "cell_type": "code",
      "metadata": {
        "colab": {
          "base_uri": "https://localhost:8080/"
        },
        "id": "CNZCcrypAtir",
        "outputId": "59a49e2c-85a6-46f6-e947-c33f5acb1bfe"
      },
      "source": [
        "8 <=7"
      ],
      "execution_count": null,
      "outputs": [
        {
          "output_type": "execute_result",
          "data": {
            "text/plain": [
              "False"
            ]
          },
          "metadata": {
            "tags": []
          },
          "execution_count": 5
        }
      ]
    },
    {
      "cell_type": "markdown",
      "metadata": {
        "id": "0encUpshAvZ5"
      },
      "source": [
        "## **같다와 같지 않다**\n",
        "**== : 같음을 비교**\n"
      ]
    },
    {
      "cell_type": "markdown",
      "metadata": {
        "id": "ozAxWL4BdmWh"
      },
      "source": [
        "대입연산자 '=' 사용시 오류 발생"
      ]
    },
    {
      "cell_type": "code",
      "metadata": {
        "colab": {
          "base_uri": "https://localhost:8080/",
          "height": 136
        },
        "id": "9EIz8YjOA9EM",
        "outputId": "df1d84b9-f281-4ba6-803b-69c576bb73e0"
      },
      "source": [
        "2 = 2"
      ],
      "execution_count": null,
      "outputs": [
        {
          "output_type": "error",
          "ename": "SyntaxError",
          "evalue": "ignored",
          "traceback": [
            "\u001b[0;36m  File \u001b[0;32m\"<ipython-input-6-a8e553549e25>\"\u001b[0;36m, line \u001b[0;32m1\u001b[0m\n\u001b[0;31m    2 = 2\u001b[0m\n\u001b[0m         ^\u001b[0m\n\u001b[0;31mSyntaxError\u001b[0m\u001b[0;31m:\u001b[0m can't assign to literal\n"
          ]
        }
      ]
    },
    {
      "cell_type": "code",
      "metadata": {
        "colab": {
          "base_uri": "https://localhost:8080/"
        },
        "id": "IO2-7eBqA_A9",
        "outputId": "6972d784-94df-4226-8eec-a619d88ac6ff"
      },
      "source": [
        "2 == 2"
      ],
      "execution_count": null,
      "outputs": [
        {
          "output_type": "execute_result",
          "data": {
            "text/plain": [
              "True"
            ]
          },
          "metadata": {
            "tags": []
          },
          "execution_count": 7
        }
      ]
    },
    {
      "cell_type": "code",
      "metadata": {
        "colab": {
          "base_uri": "https://localhost:8080/"
        },
        "id": "MWeSeesWBACB",
        "outputId": "a8b8690e-da12-4b79-ac6b-bf55c1dbf02e"
      },
      "source": [
        "2 == 3"
      ],
      "execution_count": null,
      "outputs": [
        {
          "output_type": "execute_result",
          "data": {
            "text/plain": [
              "False"
            ]
          },
          "metadata": {
            "tags": []
          },
          "execution_count": 8
        }
      ]
    },
    {
      "cell_type": "markdown",
      "metadata": {
        "id": "ssOpNGl2BBrp"
      },
      "source": [
        "**!= : 같지않음을 비교**\n"
      ]
    },
    {
      "cell_type": "code",
      "metadata": {
        "colab": {
          "base_uri": "https://localhost:8080/"
        },
        "id": "-RMK-TjABGVz",
        "outputId": "eb21a5ae-043f-48bf-e696-82926c1fdf0c"
      },
      "source": [
        "2 != 2"
      ],
      "execution_count": null,
      "outputs": [
        {
          "output_type": "execute_result",
          "data": {
            "text/plain": [
              "False"
            ]
          },
          "metadata": {
            "tags": []
          },
          "execution_count": 9
        }
      ]
    },
    {
      "cell_type": "code",
      "metadata": {
        "colab": {
          "base_uri": "https://localhost:8080/"
        },
        "id": "SddlWrA4BVR8",
        "outputId": "d32eaa3c-41d4-4174-ef3d-53776629713b"
      },
      "source": [
        "1 != 2"
      ],
      "execution_count": null,
      "outputs": [
        {
          "output_type": "execute_result",
          "data": {
            "text/plain": [
              "True"
            ]
          },
          "metadata": {
            "tags": []
          },
          "execution_count": 10
        }
      ]
    },
    {
      "cell_type": "code",
      "metadata": {
        "colab": {
          "base_uri": "https://localhost:8080/"
        },
        "id": "e4FjPxthBXRa",
        "outputId": "8c37a3e1-9097-4e12-90e1-8fdc2ee11f43"
      },
      "source": [
        "'나' !='너'"
      ],
      "execution_count": null,
      "outputs": [
        {
          "output_type": "execute_result",
          "data": {
            "text/plain": [
              "True"
            ]
          },
          "metadata": {
            "tags": []
          },
          "execution_count": 11
        }
      ]
    },
    {
      "cell_type": "code",
      "metadata": {
        "colab": {
          "base_uri": "https://localhost:8080/"
        },
        "id": "1LrXINGmBaUM",
        "outputId": "24a0d2fc-4d30-4092-8841-6cedf0e4be77"
      },
      "source": [
        "'나' != '나'"
      ],
      "execution_count": null,
      "outputs": [
        {
          "output_type": "execute_result",
          "data": {
            "text/plain": [
              "False"
            ]
          },
          "metadata": {
            "tags": []
          },
          "execution_count": 12
        }
      ]
    },
    {
      "cell_type": "markdown",
      "metadata": {
        "id": "ye4SIxDNBdBu"
      },
      "source": [
        "## **조건문**\n",
        "주어진 조건이 참인 경우그 다음내가 정한 규칙(logic)을 실행하는개념"
      ]
    },
    {
      "cell_type": "markdown",
      "metadata": {
        "id": "OH99TKx9Bwm3"
      },
      "source": [
        "**if**\n",
        "* if는 어떤조건이 성립한다면 ~이라는 뜻을 가짐\n",
        "* if구문끝에는 반드시 콜론(:) 필요\n",
        "* if구문에 로직을 포함시키기 위해선 들여쓰기로 구분하여야 함"
      ]
    },
    {
      "cell_type": "code",
      "metadata": {
        "colab": {
          "base_uri": "https://localhost:8080/"
        },
        "id": "c6RoNZhTB7Nn",
        "outputId": "0fd70054-3277-4cf0-a03a-729c237bae0c"
      },
      "source": [
        "if 5>3:\n",
        "  print('참')"
      ],
      "execution_count": null,
      "outputs": [
        {
          "output_type": "stream",
          "text": [
            "참\n"
          ],
          "name": "stdout"
        }
      ]
    },
    {
      "cell_type": "code",
      "metadata": {
        "colab": {
          "base_uri": "https://localhost:8080/"
        },
        "id": "NGZxs5XMCCvC",
        "outputId": "1a8d5ba0-8e57-4e13-a35b-2cb1c7fdefb3"
      },
      "source": [
        "if 5<3:\n",
        "  print('참')\n",
        "  print('참')\n",
        "  print('참')\n",
        "\n",
        "print('끝')"
      ],
      "execution_count": null,
      "outputs": [
        {
          "output_type": "stream",
          "text": [
            "끝\n"
          ],
          "name": "stdout"
        }
      ]
    },
    {
      "cell_type": "code",
      "metadata": {
        "id": "gxogWQZBCuwG"
      },
      "source": [
        "if 5<3:\n",
        "  print('참')"
      ],
      "execution_count": null,
      "outputs": []
    },
    {
      "cell_type": "markdown",
      "metadata": {
        "id": "noKdYlzwCPBc"
      },
      "source": [
        "**else**  \n",
        "else는 if 조건 후에 따라오며, if가 아닌 경우에 실행됨"
      ]
    },
    {
      "cell_type": "code",
      "metadata": {
        "colab": {
          "base_uri": "https://localhost:8080/"
        },
        "id": "53Ixzyl0C3xi",
        "outputId": "f5716d8c-02ea-4174-d1dc-dd24aaeb0f5b"
      },
      "source": [
        "if 5<3:\n",
        "  print('if 구문 실행')\n",
        "else:\n",
        "  print('else 구문 실행')"
      ],
      "execution_count": null,
      "outputs": [
        {
          "output_type": "stream",
          "text": [
            "else 구문 실행\n"
          ],
          "name": "stdout"
        }
      ]
    },
    {
      "cell_type": "markdown",
      "metadata": {
        "id": "RqJLU54DDLMh"
      },
      "source": [
        "else 구문을 단독으로 실행할 시 오류 발생"
      ]
    },
    {
      "cell_type": "code",
      "metadata": {
        "colab": {
          "base_uri": "https://localhost:8080/",
          "height": 136
        },
        "id": "TLzpcatfDQE0",
        "outputId": "8e15958a-3d8a-4960-8f26-7eb2fbd3025d"
      },
      "source": [
        "else:\n",
        "  print('else 구문 실행')"
      ],
      "execution_count": null,
      "outputs": [
        {
          "output_type": "error",
          "ename": "SyntaxError",
          "evalue": "ignored",
          "traceback": [
            "\u001b[0;36m  File \u001b[0;32m\"<ipython-input-18-f940342b0f6e>\"\u001b[0;36m, line \u001b[0;32m1\u001b[0m\n\u001b[0;31m    else:\u001b[0m\n\u001b[0m       ^\u001b[0m\n\u001b[0;31mSyntaxError\u001b[0m\u001b[0;31m:\u001b[0m invalid syntax\n"
          ]
        }
      ]
    },
    {
      "cell_type": "markdown",
      "metadata": {
        "id": "h_8YkK5iDTIM"
      },
      "source": [
        "**elif**  \n",
        "elif 구문은 3가지 이상 분기 (조건)의 동작을 수행할 때 사용"
      ]
    },
    {
      "cell_type": "code",
      "metadata": {
        "colab": {
          "base_uri": "https://localhost:8080/"
        },
        "id": "Q3VFnKPLDm-s",
        "outputId": "b46eefc7-a2fb-42d4-8ba2-373f3446aebe"
      },
      "source": [
        "if 3>5:\n",
        "  print('if 구문')\n",
        "elif 3<4:\n",
        "  print('elif 구문')\n",
        "else:\n",
        "  print('None')"
      ],
      "execution_count": null,
      "outputs": [
        {
          "output_type": "stream",
          "text": [
            "elif 구문\n"
          ],
          "name": "stdout"
        }
      ]
    },
    {
      "cell_type": "code",
      "metadata": {
        "colab": {
          "base_uri": "https://localhost:8080/"
        },
        "id": "j8kFunPeD2iV",
        "outputId": "87796ea5-6c6b-4045-d4be-8be5a0c86e57"
      },
      "source": [
        "if 3>5:\n",
        "  print('if 구문')\n",
        "elif 3>4:\n",
        "  print('elif 1구문')\n",
        "elif 4>3:\n",
        "  print('elif 2구문')\n",
        "elif 3>1:\n",
        "  print('elif 3구문')\n",
        "else:\n",
        "  print('None')"
      ],
      "execution_count": null,
      "outputs": [
        {
          "output_type": "stream",
          "text": [
            "elif 2구문\n"
          ],
          "name": "stdout"
        }
      ]
    },
    {
      "cell_type": "markdown",
      "metadata": {
        "id": "5_kdTalRERIl"
      },
      "source": [
        "if문은 위에서부터 차례대로 실행"
      ]
    },
    {
      "cell_type": "markdown",
      "metadata": {
        "id": "Y3oOp-t5Erkn"
      },
      "source": [
        "# **1이나 0이 참 또는 거짓을 표현하는 경우**"
      ]
    },
    {
      "cell_type": "code",
      "metadata": {
        "colab": {
          "base_uri": "https://localhost:8080/"
        },
        "id": "GJarjJrTEynH",
        "outputId": "53118ec1-f999-42e9-a54a-a198f438bc3d"
      },
      "source": [
        "if 1:\n",
        "  print('참')\n",
        "else:\n",
        "  print('거짓')"
      ],
      "execution_count": null,
      "outputs": [
        {
          "output_type": "stream",
          "text": [
            "참\n"
          ],
          "name": "stdout"
        }
      ]
    },
    {
      "cell_type": "code",
      "metadata": {
        "colab": {
          "base_uri": "https://localhost:8080/"
        },
        "id": "5-V51uvKE4cx",
        "outputId": "6c795960-372b-4de8-a140-8fb9b86237b6"
      },
      "source": [
        "if 0:\n",
        "  print('참')\n",
        "else:\n",
        "  print('거짓')"
      ],
      "execution_count": null,
      "outputs": [
        {
          "output_type": "stream",
          "text": [
            "거짓\n"
          ],
          "name": "stdout"
        }
      ]
    },
    {
      "cell_type": "markdown",
      "metadata": {
        "id": "dV9NQVpJE_Lt"
      },
      "source": [
        "## **삼항연산자**\n",
        "(문법)**(참인 값) if 조건 else(거짓인 경우 값)**\n"
      ]
    },
    {
      "cell_type": "code",
      "metadata": {
        "colab": {
          "base_uri": "https://localhost:8080/",
          "height": 35
        },
        "id": "-LkfMQhbFMkp",
        "outputId": "373ca52f-a978-4241-83fa-4eb72e1d1f2e"
      },
      "source": [
        "age = 35\n",
        "\"30세 이상입니다.\" if age >= 30 else \"30세 이하입니다.\""
      ],
      "execution_count": null,
      "outputs": [
        {
          "output_type": "execute_result",
          "data": {
            "application/vnd.google.colaboratory.intrinsic+json": {
              "type": "string"
            },
            "text/plain": [
              "'30세 이상입니다.'"
            ]
          },
          "metadata": {
            "tags": []
          },
          "execution_count": 23
        }
      ]
    },
    {
      "cell_type": "code",
      "metadata": {
        "colab": {
          "base_uri": "https://localhost:8080/",
          "height": 35
        },
        "id": "r-U4oCQaFTwl",
        "outputId": "e2308a3f-8705-4c83-edeb-951d65d4c520"
      },
      "source": [
        "age = 20\n",
        "\"30세 이상입니다.\" if age >=30 else '30세 이하입니다'"
      ],
      "execution_count": null,
      "outputs": [
        {
          "output_type": "execute_result",
          "data": {
            "application/vnd.google.colaboratory.intrinsic+json": {
              "type": "string"
            },
            "text/plain": [
              "'30세 이하입니다'"
            ]
          },
          "metadata": {
            "tags": []
          },
          "execution_count": 24
        }
      ]
    },
    {
      "cell_type": "markdown",
      "metadata": {
        "id": "bIf90u2mFcSZ"
      },
      "source": [
        "## **논리 연산자 (and, or,not)**\n",
        "**and** / **or** : 두가지 이상 조건을 다룰 때 활용"
      ]
    },
    {
      "cell_type": "markdown",
      "metadata": {
        "id": "F0y_dIkVFz89"
      },
      "source": [
        "**and**  \n",
        "* and조건은 모두 만족할 때 참으로 인식"
      ]
    },
    {
      "cell_type": "code",
      "metadata": {
        "colab": {
          "base_uri": "https://localhost:8080/"
        },
        "id": "Q30pBl3GF6ay",
        "outputId": "66b7c696-da06-44c7-da52-53101fb56829"
      },
      "source": [
        "True and True and True"
      ],
      "execution_count": null,
      "outputs": [
        {
          "output_type": "execute_result",
          "data": {
            "text/plain": [
              "True"
            ]
          },
          "metadata": {
            "tags": []
          },
          "execution_count": 25
        }
      ]
    },
    {
      "cell_type": "code",
      "metadata": {
        "colab": {
          "base_uri": "https://localhost:8080/"
        },
        "id": "3OxFcghcF9ml",
        "outputId": "54ccc226-5f9e-45c5-fdd7-a7e646e04703"
      },
      "source": [
        "True and False and True"
      ],
      "execution_count": null,
      "outputs": [
        {
          "output_type": "execute_result",
          "data": {
            "text/plain": [
              "False"
            ]
          },
          "metadata": {
            "tags": []
          },
          "execution_count": 26
        }
      ]
    },
    {
      "cell_type": "code",
      "metadata": {
        "colab": {
          "base_uri": "https://localhost:8080/"
        },
        "id": "zwL8gySUGAkB",
        "outputId": "c4af0e35-7d5f-4472-ff44-c9f278c456dc"
      },
      "source": [
        "if (0<1) and (0<2):\n",
        "  print('모두 참')\n",
        "else:\n",
        "  print('거짓 포함')"
      ],
      "execution_count": null,
      "outputs": [
        {
          "output_type": "stream",
          "text": [
            "모두 참\n"
          ],
          "name": "stdout"
        }
      ]
    },
    {
      "cell_type": "code",
      "metadata": {
        "colab": {
          "base_uri": "https://localhost:8080/"
        },
        "id": "-E0vo8PrGMPc",
        "outputId": "a02e251f-4c45-49f9-bc2f-f4d66c1d0c72"
      },
      "source": [
        "if (0<1) and (0>2):\n",
        "  print(\"모두 참\")\n",
        "else:\n",
        "  print('거짓 포함')"
      ],
      "execution_count": null,
      "outputs": [
        {
          "output_type": "stream",
          "text": [
            "거짓 포함\n"
          ],
          "name": "stdout"
        }
      ]
    },
    {
      "cell_type": "markdown",
      "metadata": {
        "id": "Rw_h6TsSGTC9"
      },
      "source": [
        "**or**\n",
        "* or조건은 조건중 하나라도 만족하면 참으로 인식"
      ]
    },
    {
      "cell_type": "code",
      "metadata": {
        "colab": {
          "base_uri": "https://localhost:8080/"
        },
        "id": "TtvNVk0iGfId",
        "outputId": "4060cf81-a268-476e-c681-84bf9f6334e5"
      },
      "source": [
        "True or False or False"
      ],
      "execution_count": null,
      "outputs": [
        {
          "output_type": "execute_result",
          "data": {
            "text/plain": [
              "True"
            ]
          },
          "metadata": {
            "tags": []
          },
          "execution_count": 30
        }
      ]
    },
    {
      "cell_type": "code",
      "metadata": {
        "colab": {
          "base_uri": "https://localhost:8080/"
        },
        "id": "9UefZ54nGh1z",
        "outputId": "0d7a25b9-4cd7-4f8a-8a4a-0917076a7dc6"
      },
      "source": [
        "False or False or False"
      ],
      "execution_count": null,
      "outputs": [
        {
          "output_type": "execute_result",
          "data": {
            "text/plain": [
              "False"
            ]
          },
          "metadata": {
            "tags": []
          },
          "execution_count": 33
        }
      ]
    },
    {
      "cell_type": "code",
      "metadata": {
        "colab": {
          "base_uri": "https://localhost:8080/"
        },
        "id": "1fcEYWzdGkld",
        "outputId": "8e830e33-d956-43e9-fe6f-bb72652e94c8"
      },
      "source": [
        "False and True and True or True"
      ],
      "execution_count": 1,
      "outputs": [
        {
          "output_type": "execute_result",
          "data": {
            "text/plain": [
              "True"
            ]
          },
          "metadata": {
            "tags": []
          },
          "execution_count": 1
        }
      ]
    },
    {
      "cell_type": "code",
      "metadata": {
        "colab": {
          "base_uri": "https://localhost:8080/"
        },
        "id": "E9G-q_Xjd-4T",
        "outputId": "a07728ff-493e-4d39-ecee-56357e59f9ed"
      },
      "source": [
        "if (0<1) or (i<0):\n",
        "  print('참 포함')\n",
        "else:\n",
        "  print('참 없음')"
      ],
      "execution_count": 2,
      "outputs": [
        {
          "output_type": "stream",
          "text": [
            "참 포함\n"
          ],
          "name": "stdout"
        }
      ]
    },
    {
      "cell_type": "code",
      "metadata": {
        "colab": {
          "base_uri": "https://localhost:8080/"
        },
        "id": "7GGYoMpyeIoJ",
        "outputId": "f1f4a8d8-fbd7-4e7a-af6f-297f3e40266a"
      },
      "source": [
        "if (10<1) or (1<0):\n",
        "  print('참 포함')\n",
        "else:\n",
        "  print('참 없음')"
      ],
      "execution_count": 3,
      "outputs": [
        {
          "output_type": "stream",
          "text": [
            "참 없음\n"
          ],
          "name": "stdout"
        }
      ]
    },
    {
      "cell_type": "markdown",
      "metadata": {
        "id": "LYLqrQWdGvY-"
      },
      "source": [
        "**not** \n",
        "* bool 값을 반전시킴"
      ]
    },
    {
      "cell_type": "code",
      "metadata": {
        "colab": {
          "base_uri": "https://localhost:8080/"
        },
        "id": "Zf9qozKCG51d",
        "outputId": "be786cbf-3447-48a0-be1f-958012775ccb"
      },
      "source": [
        "not True"
      ],
      "execution_count": null,
      "outputs": [
        {
          "output_type": "execute_result",
          "data": {
            "text/plain": [
              "False"
            ]
          },
          "metadata": {
            "tags": []
          },
          "execution_count": 34
        }
      ]
    },
    {
      "cell_type": "code",
      "metadata": {
        "colab": {
          "base_uri": "https://localhost:8080/"
        },
        "id": "hhkjgrIkG9hO",
        "outputId": "e2ddcd47-c34e-4824-b692-1fc5b823e3a9"
      },
      "source": [
        "not False"
      ],
      "execution_count": null,
      "outputs": [
        {
          "output_type": "execute_result",
          "data": {
            "text/plain": [
              "True"
            ]
          },
          "metadata": {
            "tags": []
          },
          "execution_count": 35
        }
      ]
    },
    {
      "cell_type": "code",
      "metadata": {
        "id": "2zZKZAEiG-hd"
      },
      "source": [
        "if not True:\n",
        "  print('not True')"
      ],
      "execution_count": null,
      "outputs": []
    },
    {
      "cell_type": "code",
      "metadata": {
        "colab": {
          "base_uri": "https://localhost:8080/"
        },
        "id": "m6PArAAOHGyj",
        "outputId": "add53d67-f1a1-4731-fd1e-2dcbca717f2e"
      },
      "source": [
        "if not False:\n",
        "  print('not False')"
      ],
      "execution_count": null,
      "outputs": [
        {
          "output_type": "stream",
          "text": [
            "not False\n"
          ],
          "name": "stdout"
        }
      ]
    }
  ]
}