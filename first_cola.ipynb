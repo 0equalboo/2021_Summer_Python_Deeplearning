{
  "nbformat": 4,
  "nbformat_minor": 0,
  "metadata": {
    "colab": {
      "name": "first_cola.ipynb",
      "provenance": [],
      "authorship_tag": "ABX9TyNH1/W6J3EeadhmhQihGfqQ",
      "include_colab_link": true
    },
    "kernelspec": {
      "name": "python3",
      "display_name": "Python 3"
    },
    "language_info": {
      "name": "python"
    }
  },
  "cells": [
    {
      "cell_type": "markdown",
      "metadata": {
        "id": "view-in-github",
        "colab_type": "text"
      },
      "source": [
        "<a href=\"https://colab.research.google.com/github/0equalboo/2021_Summer_Python_Deeplearning/blob/main/first_cola.ipynb\" target=\"_parent\"><img src=\"https://colab.research.google.com/assets/colab-badge.svg\" alt=\"Open In Colab\"/></a>"
      ]
    },
    {
      "cell_type": "code",
      "metadata": {
        "colab": {
          "base_uri": "https://localhost:8080/"
        },
        "id": "wlQXcMyF0owH",
        "outputId": "ad9ada80-b1a5-45fc-cccf-5532abb8bd07"
      },
      "source": [
        "print('this is cell')"
      ],
      "execution_count": 4,
      "outputs": [
        {
          "output_type": "stream",
          "text": [
            "this is cell\n"
          ],
          "name": "stdout"
        }
      ]
    },
    {
      "cell_type": "code",
      "metadata": {
        "colab": {
          "base_uri": "https://localhost:8080/"
        },
        "id": "ZY5d6sm30CIg",
        "outputId": "aabb8353-90c7-4d92-8303-ffa0ac41ec0e"
      },
      "source": [
        "1+1"
      ],
      "execution_count": 5,
      "outputs": [
        {
          "output_type": "execute_result",
          "data": {
            "text/plain": [
              "2"
            ]
          },
          "metadata": {
            "tags": []
          },
          "execution_count": 5
        }
      ]
    },
    {
      "cell_type": "code",
      "metadata": {
        "colab": {
          "base_uri": "https://localhost:8080/"
        },
        "id": "vSgNIMhg1yuA",
        "outputId": "a40b2e8f-7ed2-4af3-9ea5-e5a90496a0bc"
      },
      "source": [
        "print('''\n",
        "ctrl + Enter = 해당 셀을 실행하고 커서를 해당 셀에 두는 경우 \n",
        "shift + Enter = 해당 셀을 실행하고 커서를 다음 셀로 넘기는 경우\n",
        "alt + ENter = 해당 셀을 실행하고 셀을 삽입한 후 커서를 삽입한 셀로 넘기는 경우\n",
        "''')"
      ],
      "execution_count": 10,
      "outputs": [
        {
          "output_type": "stream",
          "text": [
            "\n",
            "ctrl + Enter = 해당 셀을 실행하고 커서를 해당 셀에 두는 경우 \n",
            "shift + Enter = 해당 셀을 실행하고 커서를 다음 셀로 넘기는 경우\n",
            "alt + ENter = 해당 셀을 실행하고 셀을 삽입한 후 커서를 삽입한 셀로 넘기는 경우\n",
            "\n"
          ],
          "name": "stdout"
        }
      ]
    },
    {
      "cell_type": "markdown",
      "metadata": {
        "id": "XznXob2F1TUd"
      },
      "source": [
        "입력"
      ]
    },
    {
      "cell_type": "code",
      "metadata": {
        "colab": {
          "base_uri": "https://localhost:8080/"
        },
        "id": "F33YNjFR2oVw",
        "outputId": "84112c8b-b137-43f7-982f-87d9695c6ab9"
      },
      "source": [
        "print('''\n",
        "(비황설화 상태 (esc)필수)\n",
        "ctrl + M A = 코드 셀 위에 삽입\n",
        "Ctrl + M B = 코드 셀 아래 삽입\n",
        "Ctrl + M D = 셀 지우기\n",
        "Ctrl + M Y = 코드 셀로 변경\n",
        "Ctrl + M M = 마크다운 셀로 변경\n",
        "Ctrl + M Z = 실행 취소\n",
        "''')"
      ],
      "execution_count": 12,
      "outputs": [
        {
          "output_type": "stream",
          "text": [
            "\n",
            "(비황설화 상태 (esc)필수)\n",
            "ctrl + M A = 코드 셀 위에 삽입\n",
            "Ctrl + M B = 코드 셀 아래 삽입\n",
            "Ctrl + M D = 셀 지우기\n",
            "Ctrl + M Y = 코드 셀로 변경\n",
            "Ctrl + M M = 마크다운 셀로 변경\n",
            "Ctrl + M Z = 실행 취소\n",
            "\n"
          ],
          "name": "stdout"
        }
      ]
    },
    {
      "cell_type": "markdown",
      "metadata": {
        "id": "VQVSiYjk3MFD"
      },
      "source": [
        "# 대제목\n",
        "## 중제목\n",
        "### 소제목\n",
        "# **진하게**"
      ]
    },
    {
      "cell_type": "markdown",
      "metadata": {
        "id": "VaRd2YTI31FA"
      },
      "source": [
        "1. 데이터\n",
        "# markdown cheasheet"
      ]
    },
    {
      "cell_type": "code",
      "metadata": {
        "id": "06VaVXLa3_qw"
      },
      "source": [
        ""
      ],
      "execution_count": null,
      "outputs": []
    }
  ]
}